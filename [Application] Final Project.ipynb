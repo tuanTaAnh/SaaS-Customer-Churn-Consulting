{
 "cells": [
  {
   "cell_type": "markdown",
   "id": "c75eb544-300d-458e-a504-61e86e8394b8",
   "metadata": {},
   "source": [
    "<div style=\"text-align:center\">\n",
    "\n",
    "# M504D\n",
    "##  AI and Applications\n",
    "### *Individual Final Project*\n",
    "\n",
    "<hr/>\n",
    "\n",
    "<p style=\"text-align:center\">\n",
    "<strong>Student Name</strong>: Anh Tuan Ta<br/>\n",
    "<strong>Student ID</strong>: GH1046139.<br/>\n",
    "<strong>Student Email</strong>: anh.ta@gisma-student.com<br/>\n",
    "<strong>LinkedIn</strong>:\n",
    "<a href=\"https://www.linkedin.com/in/ta-anh-tuan-ai-engineer\">https://www.linkedin.com/in/ta-anh-tuan-ai-engineer</a>\n",
    "</p>\n",
    "\n",
    "<p style=\"text-align:center\">MSc of DATA SCIENCE, AI AND DIGITAL BUSINESS</p>\n",
    "\n",
    "<hr/>\n",
    "\n",
    "</div>\n"
   ]
  },
  {
   "cell_type": "markdown",
   "id": "f52ac7ea-cec2-48a0-9f19-542162193fc9",
   "metadata": {},
   "source": [
    "# SaaS Customer Churn Data Science Consulting"
   ]
  },
  {
   "cell_type": "markdown",
   "id": "0119046a-23d3-4ef3-ac55-1662231b8d09",
   "metadata": {},
   "source": [
    "## Business Context - SaaS Customer Churn\n",
    "\n",
    "**Role:** Data Science Consultant  \n",
    "**Client:** A B2B SaaS company aiming to reduce churn and increase revenue retention.  \n",
    "**Data:** `saas-customer-churn.csv` — customer profile, plan, product usage/engagement, support interactions, billing/revenue, tenure, and churn labels.  \n",
    "\n",
    "**Why this analysis?**  \n",
    "Churn erodes recurring revenue and increases acquisition costs. We’ll explore data quality, engineer useful features, and answer key business questions (churn drivers, risky segments, revenue at risk, retention trends). We’ll also fit a lightweight baseline model to quantify feature effects.\n",
    "\n",
    "**Deliverables:**  \n",
    "- Data audit (quality, schema, missingness)  \n",
    "- Preprocessing (types, nulls, outliers, features)  \n",
    "- 8–10 business questions answered with code + commentary  \n",
    "- Final insights & data-driven recommendations \n",
    "\n",
    "**Dataset Link:**  \n",
    "- https://drive.google.com/file/d/1sjzv7laukiHvTV6ueDUHPywQs7cOKEaJ/view?usp=drive_link\n"
   ]
  },
  {
   "cell_type": "markdown",
   "id": "4b17b958-6eb3-4802-a437-16f66c2abed7",
   "metadata": {},
   "source": [
    "# 1. Installing Libraries"
   ]
  },
  {
   "cell_type": "code",
   "execution_count": null,
   "id": "5964274f-40d0-4004-83db-28e9fef8c89a",
   "metadata": {},
   "outputs": [],
   "source": [
    "import os, sys, pathlib\n",
    "print(\"Python:\", sys.executable)\n",
    "print(\"sys.prefix:\", sys.prefix)\n",
    "env_name = os.environ.get(\"CONDA_DEFAULT_ENV\") or pathlib.Path(sys.prefix).name\n",
    "print(\"Conda env:\", env_name)"
   ]
  },
  {
   "cell_type": "code",
   "execution_count": 1,
   "id": "2f818418-f37f-45de-96e9-08980e8e17fd",
   "metadata": {},
   "outputs": [
    {
     "name": "stdout",
     "output_type": "stream",
     "text": [
      "Requirement already satisfied: numpy==1.26.4 in /Users/taanhtuan/miniconda3/envs/churn/lib/python3.12/site-packages (from -r requirements.txt (line 1)) (1.26.4)\n",
      "Requirement already satisfied: pandas==2.2.2 in /Users/taanhtuan/miniconda3/envs/churn/lib/python3.12/site-packages (from -r requirements.txt (line 2)) (2.2.2)\n",
      "Requirement already satisfied: scipy==1.11.4 in /Users/taanhtuan/miniconda3/envs/churn/lib/python3.12/site-packages (from -r requirements.txt (line 3)) (1.11.4)\n",
      "Requirement already satisfied: matplotlib==3.8.4 in /Users/taanhtuan/miniconda3/envs/churn/lib/python3.12/site-packages (from -r requirements.txt (line 4)) (3.8.4)\n",
      "Requirement already satisfied: seaborn==0.13.2 in /Users/taanhtuan/miniconda3/envs/churn/lib/python3.12/site-packages (from -r requirements.txt (line 5)) (0.13.2)\n",
      "Requirement already satisfied: scikit-learn==1.5.2 in /Users/taanhtuan/miniconda3/envs/churn/lib/python3.12/site-packages (from -r requirements.txt (line 6)) (1.5.2)\n",
      "Requirement already satisfied: shap==0.45.1 in /Users/taanhtuan/miniconda3/envs/churn/lib/python3.12/site-packages (from -r requirements.txt (line 7)) (0.45.1)\n",
      "Requirement already satisfied: tqdm==4.66.4 in /Users/taanhtuan/miniconda3/envs/churn/lib/python3.12/site-packages (from -r requirements.txt (line 8)) (4.66.4)\n",
      "Requirement already satisfied: notebook==7.2.2 in /Users/taanhtuan/miniconda3/envs/churn/lib/python3.12/site-packages (from -r requirements.txt (line 9)) (7.2.2)\n",
      "Requirement already satisfied: ipykernel==6.29.5 in /Users/taanhtuan/miniconda3/envs/churn/lib/python3.12/site-packages (from -r requirements.txt (line 10)) (6.29.5)\n",
      "Requirement already satisfied: ipywidgets==8.1.2 in /Users/taanhtuan/miniconda3/envs/churn/lib/python3.12/site-packages (from -r requirements.txt (line 11)) (8.1.2)\n",
      "Requirement already satisfied: python-dateutil>=2.8.2 in /Users/taanhtuan/miniconda3/envs/churn/lib/python3.12/site-packages (from pandas==2.2.2->-r requirements.txt (line 2)) (2.9.0.post0)\n",
      "Requirement already satisfied: pytz>=2020.1 in /Users/taanhtuan/miniconda3/envs/churn/lib/python3.12/site-packages (from pandas==2.2.2->-r requirements.txt (line 2)) (2025.2)\n",
      "Requirement already satisfied: tzdata>=2022.7 in /Users/taanhtuan/miniconda3/envs/churn/lib/python3.12/site-packages (from pandas==2.2.2->-r requirements.txt (line 2)) (2025.2)\n",
      "Requirement already satisfied: contourpy>=1.0.1 in /Users/taanhtuan/miniconda3/envs/churn/lib/python3.12/site-packages (from matplotlib==3.8.4->-r requirements.txt (line 4)) (1.3.3)\n",
      "Requirement already satisfied: cycler>=0.10 in /Users/taanhtuan/miniconda3/envs/churn/lib/python3.12/site-packages (from matplotlib==3.8.4->-r requirements.txt (line 4)) (0.12.1)\n",
      "Requirement already satisfied: fonttools>=4.22.0 in /Users/taanhtuan/miniconda3/envs/churn/lib/python3.12/site-packages (from matplotlib==3.8.4->-r requirements.txt (line 4)) (4.60.0)\n",
      "Requirement already satisfied: kiwisolver>=1.3.1 in /Users/taanhtuan/miniconda3/envs/churn/lib/python3.12/site-packages (from matplotlib==3.8.4->-r requirements.txt (line 4)) (1.4.9)\n",
      "Requirement already satisfied: packaging>=20.0 in /Users/taanhtuan/miniconda3/envs/churn/lib/python3.12/site-packages (from matplotlib==3.8.4->-r requirements.txt (line 4)) (25.0)\n",
      "Requirement already satisfied: pillow>=8 in /Users/taanhtuan/miniconda3/envs/churn/lib/python3.12/site-packages (from matplotlib==3.8.4->-r requirements.txt (line 4)) (11.3.0)\n",
      "Requirement already satisfied: pyparsing>=2.3.1 in /Users/taanhtuan/miniconda3/envs/churn/lib/python3.12/site-packages (from matplotlib==3.8.4->-r requirements.txt (line 4)) (3.2.5)\n",
      "Requirement already satisfied: joblib>=1.2.0 in /Users/taanhtuan/miniconda3/envs/churn/lib/python3.12/site-packages (from scikit-learn==1.5.2->-r requirements.txt (line 6)) (1.5.2)\n",
      "Requirement already satisfied: threadpoolctl>=3.1.0 in /Users/taanhtuan/miniconda3/envs/churn/lib/python3.12/site-packages (from scikit-learn==1.5.2->-r requirements.txt (line 6)) (3.6.0)\n",
      "Requirement already satisfied: slicer==0.0.8 in /Users/taanhtuan/miniconda3/envs/churn/lib/python3.12/site-packages (from shap==0.45.1->-r requirements.txt (line 7)) (0.0.8)\n",
      "Requirement already satisfied: numba in /Users/taanhtuan/miniconda3/envs/churn/lib/python3.12/site-packages (from shap==0.45.1->-r requirements.txt (line 7)) (0.62.0)\n",
      "Requirement already satisfied: cloudpickle in /Users/taanhtuan/miniconda3/envs/churn/lib/python3.12/site-packages (from shap==0.45.1->-r requirements.txt (line 7)) (3.1.1)\n",
      "Requirement already satisfied: jupyter-server<3,>=2.4.0 in /Users/taanhtuan/miniconda3/envs/churn/lib/python3.12/site-packages (from notebook==7.2.2->-r requirements.txt (line 9)) (2.17.0)\n",
      "Requirement already satisfied: jupyterlab-server<3,>=2.27.1 in /Users/taanhtuan/miniconda3/envs/churn/lib/python3.12/site-packages (from notebook==7.2.2->-r requirements.txt (line 9)) (2.27.3)\n",
      "Requirement already satisfied: jupyterlab<4.3,>=4.2.0 in /Users/taanhtuan/miniconda3/envs/churn/lib/python3.12/site-packages (from notebook==7.2.2->-r requirements.txt (line 9)) (4.2.7)\n",
      "Requirement already satisfied: notebook-shim<0.3,>=0.2 in /Users/taanhtuan/miniconda3/envs/churn/lib/python3.12/site-packages (from notebook==7.2.2->-r requirements.txt (line 9)) (0.2.4)\n",
      "Requirement already satisfied: tornado>=6.2.0 in /Users/taanhtuan/miniconda3/envs/churn/lib/python3.12/site-packages (from notebook==7.2.2->-r requirements.txt (line 9)) (6.5.2)\n",
      "Requirement already satisfied: appnope in /Users/taanhtuan/miniconda3/envs/churn/lib/python3.12/site-packages (from ipykernel==6.29.5->-r requirements.txt (line 10)) (0.1.4)\n",
      "Requirement already satisfied: comm>=0.1.1 in /Users/taanhtuan/miniconda3/envs/churn/lib/python3.12/site-packages (from ipykernel==6.29.5->-r requirements.txt (line 10)) (0.2.3)\n",
      "Requirement already satisfied: debugpy>=1.6.5 in /Users/taanhtuan/miniconda3/envs/churn/lib/python3.12/site-packages (from ipykernel==6.29.5->-r requirements.txt (line 10)) (1.8.17)\n",
      "Requirement already satisfied: ipython>=7.23.1 in /Users/taanhtuan/miniconda3/envs/churn/lib/python3.12/site-packages (from ipykernel==6.29.5->-r requirements.txt (line 10)) (9.5.0)\n",
      "Requirement already satisfied: jupyter-client>=6.1.12 in /Users/taanhtuan/miniconda3/envs/churn/lib/python3.12/site-packages (from ipykernel==6.29.5->-r requirements.txt (line 10)) (8.6.3)\n",
      "Requirement already satisfied: jupyter-core!=5.0.*,>=4.12 in /Users/taanhtuan/miniconda3/envs/churn/lib/python3.12/site-packages (from ipykernel==6.29.5->-r requirements.txt (line 10)) (5.8.1)\n",
      "Requirement already satisfied: matplotlib-inline>=0.1 in /Users/taanhtuan/miniconda3/envs/churn/lib/python3.12/site-packages (from ipykernel==6.29.5->-r requirements.txt (line 10)) (0.1.7)\n",
      "Requirement already satisfied: nest-asyncio in /Users/taanhtuan/miniconda3/envs/churn/lib/python3.12/site-packages (from ipykernel==6.29.5->-r requirements.txt (line 10)) (1.6.0)\n",
      "Requirement already satisfied: psutil in /Users/taanhtuan/miniconda3/envs/churn/lib/python3.12/site-packages (from ipykernel==6.29.5->-r requirements.txt (line 10)) (7.1.0)\n",
      "Requirement already satisfied: pyzmq>=24 in /Users/taanhtuan/miniconda3/envs/churn/lib/python3.12/site-packages (from ipykernel==6.29.5->-r requirements.txt (line 10)) (27.1.0)\n",
      "Requirement already satisfied: traitlets>=5.4.0 in /Users/taanhtuan/miniconda3/envs/churn/lib/python3.12/site-packages (from ipykernel==6.29.5->-r requirements.txt (line 10)) (5.14.3)\n",
      "Requirement already satisfied: widgetsnbextension~=4.0.10 in /Users/taanhtuan/miniconda3/envs/churn/lib/python3.12/site-packages (from ipywidgets==8.1.2->-r requirements.txt (line 11)) (4.0.14)\n",
      "Requirement already satisfied: jupyterlab-widgets~=3.0.10 in /Users/taanhtuan/miniconda3/envs/churn/lib/python3.12/site-packages (from ipywidgets==8.1.2->-r requirements.txt (line 11)) (3.0.15)\n",
      "Requirement already satisfied: anyio>=3.1.0 in /Users/taanhtuan/miniconda3/envs/churn/lib/python3.12/site-packages (from jupyter-server<3,>=2.4.0->notebook==7.2.2->-r requirements.txt (line 9)) (4.10.0)\n",
      "Requirement already satisfied: argon2-cffi>=21.1 in /Users/taanhtuan/miniconda3/envs/churn/lib/python3.12/site-packages (from jupyter-server<3,>=2.4.0->notebook==7.2.2->-r requirements.txt (line 9)) (25.1.0)\n",
      "Requirement already satisfied: jinja2>=3.0.3 in /Users/taanhtuan/miniconda3/envs/churn/lib/python3.12/site-packages (from jupyter-server<3,>=2.4.0->notebook==7.2.2->-r requirements.txt (line 9)) (3.1.6)\n",
      "Requirement already satisfied: jupyter-events>=0.11.0 in /Users/taanhtuan/miniconda3/envs/churn/lib/python3.12/site-packages (from jupyter-server<3,>=2.4.0->notebook==7.2.2->-r requirements.txt (line 9)) (0.12.0)\n",
      "Requirement already satisfied: jupyter-server-terminals>=0.4.4 in /Users/taanhtuan/miniconda3/envs/churn/lib/python3.12/site-packages (from jupyter-server<3,>=2.4.0->notebook==7.2.2->-r requirements.txt (line 9)) (0.5.3)\n",
      "Requirement already satisfied: nbconvert>=6.4.4 in /Users/taanhtuan/miniconda3/envs/churn/lib/python3.12/site-packages (from jupyter-server<3,>=2.4.0->notebook==7.2.2->-r requirements.txt (line 9)) (7.16.6)\n",
      "Requirement already satisfied: nbformat>=5.3.0 in /Users/taanhtuan/miniconda3/envs/churn/lib/python3.12/site-packages (from jupyter-server<3,>=2.4.0->notebook==7.2.2->-r requirements.txt (line 9)) (5.10.4)\n",
      "Requirement already satisfied: prometheus-client>=0.9 in /Users/taanhtuan/miniconda3/envs/churn/lib/python3.12/site-packages (from jupyter-server<3,>=2.4.0->notebook==7.2.2->-r requirements.txt (line 9)) (0.23.1)\n",
      "Requirement already satisfied: send2trash>=1.8.2 in /Users/taanhtuan/miniconda3/envs/churn/lib/python3.12/site-packages (from jupyter-server<3,>=2.4.0->notebook==7.2.2->-r requirements.txt (line 9)) (1.8.3)\n",
      "Requirement already satisfied: terminado>=0.8.3 in /Users/taanhtuan/miniconda3/envs/churn/lib/python3.12/site-packages (from jupyter-server<3,>=2.4.0->notebook==7.2.2->-r requirements.txt (line 9)) (0.18.1)\n",
      "Requirement already satisfied: websocket-client>=1.7 in /Users/taanhtuan/miniconda3/envs/churn/lib/python3.12/site-packages (from jupyter-server<3,>=2.4.0->notebook==7.2.2->-r requirements.txt (line 9)) (1.8.0)\n",
      "Requirement already satisfied: async-lru>=1.0.0 in /Users/taanhtuan/miniconda3/envs/churn/lib/python3.12/site-packages (from jupyterlab<4.3,>=4.2.0->notebook==7.2.2->-r requirements.txt (line 9)) (2.0.5)\n",
      "Requirement already satisfied: httpx>=0.25.0 in /Users/taanhtuan/miniconda3/envs/churn/lib/python3.12/site-packages (from jupyterlab<4.3,>=4.2.0->notebook==7.2.2->-r requirements.txt (line 9)) (0.28.1)\n",
      "Requirement already satisfied: jupyter-lsp>=2.0.0 in /Users/taanhtuan/miniconda3/envs/churn/lib/python3.12/site-packages (from jupyterlab<4.3,>=4.2.0->notebook==7.2.2->-r requirements.txt (line 9)) (2.3.0)\n",
      "Requirement already satisfied: setuptools>=40.8.0 in /Users/taanhtuan/miniconda3/envs/churn/lib/python3.12/site-packages (from jupyterlab<4.3,>=4.2.0->notebook==7.2.2->-r requirements.txt (line 9)) (78.1.1)\n",
      "Requirement already satisfied: babel>=2.10 in /Users/taanhtuan/miniconda3/envs/churn/lib/python3.12/site-packages (from jupyterlab-server<3,>=2.27.1->notebook==7.2.2->-r requirements.txt (line 9)) (2.17.0)\n",
      "Requirement already satisfied: json5>=0.9.0 in /Users/taanhtuan/miniconda3/envs/churn/lib/python3.12/site-packages (from jupyterlab-server<3,>=2.27.1->notebook==7.2.2->-r requirements.txt (line 9)) (0.12.1)\n",
      "Requirement already satisfied: jsonschema>=4.18.0 in /Users/taanhtuan/miniconda3/envs/churn/lib/python3.12/site-packages (from jupyterlab-server<3,>=2.27.1->notebook==7.2.2->-r requirements.txt (line 9)) (4.25.1)\n",
      "Requirement already satisfied: requests>=2.31 in /Users/taanhtuan/miniconda3/envs/churn/lib/python3.12/site-packages (from jupyterlab-server<3,>=2.27.1->notebook==7.2.2->-r requirements.txt (line 9)) (2.32.5)\n",
      "Requirement already satisfied: idna>=2.8 in /Users/taanhtuan/miniconda3/envs/churn/lib/python3.12/site-packages (from anyio>=3.1.0->jupyter-server<3,>=2.4.0->notebook==7.2.2->-r requirements.txt (line 9)) (3.10)\n",
      "Requirement already satisfied: sniffio>=1.1 in /Users/taanhtuan/miniconda3/envs/churn/lib/python3.12/site-packages (from anyio>=3.1.0->jupyter-server<3,>=2.4.0->notebook==7.2.2->-r requirements.txt (line 9)) (1.3.1)\n",
      "Requirement already satisfied: typing_extensions>=4.5 in /Users/taanhtuan/miniconda3/envs/churn/lib/python3.12/site-packages (from anyio>=3.1.0->jupyter-server<3,>=2.4.0->notebook==7.2.2->-r requirements.txt (line 9)) (4.15.0)\n",
      "Requirement already satisfied: argon2-cffi-bindings in /Users/taanhtuan/miniconda3/envs/churn/lib/python3.12/site-packages (from argon2-cffi>=21.1->jupyter-server<3,>=2.4.0->notebook==7.2.2->-r requirements.txt (line 9)) (25.1.0)\n",
      "Requirement already satisfied: certifi in /Users/taanhtuan/miniconda3/envs/churn/lib/python3.12/site-packages (from httpx>=0.25.0->jupyterlab<4.3,>=4.2.0->notebook==7.2.2->-r requirements.txt (line 9)) (2025.8.3)\n",
      "Requirement already satisfied: httpcore==1.* in /Users/taanhtuan/miniconda3/envs/churn/lib/python3.12/site-packages (from httpx>=0.25.0->jupyterlab<4.3,>=4.2.0->notebook==7.2.2->-r requirements.txt (line 9)) (1.0.9)\n",
      "Requirement already satisfied: h11>=0.16 in /Users/taanhtuan/miniconda3/envs/churn/lib/python3.12/site-packages (from httpcore==1.*->httpx>=0.25.0->jupyterlab<4.3,>=4.2.0->notebook==7.2.2->-r requirements.txt (line 9)) (0.16.0)\n",
      "Requirement already satisfied: decorator in /Users/taanhtuan/miniconda3/envs/churn/lib/python3.12/site-packages (from ipython>=7.23.1->ipykernel==6.29.5->-r requirements.txt (line 10)) (5.2.1)\n",
      "Requirement already satisfied: ipython-pygments-lexers in /Users/taanhtuan/miniconda3/envs/churn/lib/python3.12/site-packages (from ipython>=7.23.1->ipykernel==6.29.5->-r requirements.txt (line 10)) (1.1.1)\n",
      "Requirement already satisfied: jedi>=0.16 in /Users/taanhtuan/miniconda3/envs/churn/lib/python3.12/site-packages (from ipython>=7.23.1->ipykernel==6.29.5->-r requirements.txt (line 10)) (0.19.2)\n",
      "Requirement already satisfied: pexpect>4.3 in /Users/taanhtuan/miniconda3/envs/churn/lib/python3.12/site-packages (from ipython>=7.23.1->ipykernel==6.29.5->-r requirements.txt (line 10)) (4.9.0)\n",
      "Requirement already satisfied: prompt_toolkit<3.1.0,>=3.0.41 in /Users/taanhtuan/miniconda3/envs/churn/lib/python3.12/site-packages (from ipython>=7.23.1->ipykernel==6.29.5->-r requirements.txt (line 10)) (3.0.52)\n",
      "Requirement already satisfied: pygments>=2.4.0 in /Users/taanhtuan/miniconda3/envs/churn/lib/python3.12/site-packages (from ipython>=7.23.1->ipykernel==6.29.5->-r requirements.txt (line 10)) (2.19.2)\n",
      "Requirement already satisfied: stack_data in /Users/taanhtuan/miniconda3/envs/churn/lib/python3.12/site-packages (from ipython>=7.23.1->ipykernel==6.29.5->-r requirements.txt (line 10)) (0.6.3)\n",
      "Requirement already satisfied: wcwidth in /Users/taanhtuan/miniconda3/envs/churn/lib/python3.12/site-packages (from prompt_toolkit<3.1.0,>=3.0.41->ipython>=7.23.1->ipykernel==6.29.5->-r requirements.txt (line 10)) (0.2.13)\n",
      "Requirement already satisfied: parso<0.9.0,>=0.8.4 in /Users/taanhtuan/miniconda3/envs/churn/lib/python3.12/site-packages (from jedi>=0.16->ipython>=7.23.1->ipykernel==6.29.5->-r requirements.txt (line 10)) (0.8.5)\n",
      "Requirement already satisfied: MarkupSafe>=2.0 in /Users/taanhtuan/miniconda3/envs/churn/lib/python3.12/site-packages (from jinja2>=3.0.3->jupyter-server<3,>=2.4.0->notebook==7.2.2->-r requirements.txt (line 9)) (3.0.2)\n",
      "Requirement already satisfied: attrs>=22.2.0 in /Users/taanhtuan/miniconda3/envs/churn/lib/python3.12/site-packages (from jsonschema>=4.18.0->jupyterlab-server<3,>=2.27.1->notebook==7.2.2->-r requirements.txt (line 9)) (25.3.0)\n",
      "Requirement already satisfied: jsonschema-specifications>=2023.03.6 in /Users/taanhtuan/miniconda3/envs/churn/lib/python3.12/site-packages (from jsonschema>=4.18.0->jupyterlab-server<3,>=2.27.1->notebook==7.2.2->-r requirements.txt (line 9)) (2025.9.1)\n",
      "Requirement already satisfied: referencing>=0.28.4 in /Users/taanhtuan/miniconda3/envs/churn/lib/python3.12/site-packages (from jsonschema>=4.18.0->jupyterlab-server<3,>=2.27.1->notebook==7.2.2->-r requirements.txt (line 9)) (0.36.2)\n",
      "Requirement already satisfied: rpds-py>=0.7.1 in /Users/taanhtuan/miniconda3/envs/churn/lib/python3.12/site-packages (from jsonschema>=4.18.0->jupyterlab-server<3,>=2.27.1->notebook==7.2.2->-r requirements.txt (line 9)) (0.27.1)\n",
      "Requirement already satisfied: platformdirs>=2.5 in /Users/taanhtuan/miniconda3/envs/churn/lib/python3.12/site-packages (from jupyter-core!=5.0.*,>=4.12->ipykernel==6.29.5->-r requirements.txt (line 10)) (4.4.0)\n",
      "Requirement already satisfied: python-json-logger>=2.0.4 in /Users/taanhtuan/miniconda3/envs/churn/lib/python3.12/site-packages (from jupyter-events>=0.11.0->jupyter-server<3,>=2.4.0->notebook==7.2.2->-r requirements.txt (line 9)) (3.3.0)\n",
      "Requirement already satisfied: pyyaml>=5.3 in /Users/taanhtuan/miniconda3/envs/churn/lib/python3.12/site-packages (from jupyter-events>=0.11.0->jupyter-server<3,>=2.4.0->notebook==7.2.2->-r requirements.txt (line 9)) (6.0.2)\n",
      "Requirement already satisfied: rfc3339-validator in /Users/taanhtuan/miniconda3/envs/churn/lib/python3.12/site-packages (from jupyter-events>=0.11.0->jupyter-server<3,>=2.4.0->notebook==7.2.2->-r requirements.txt (line 9)) (0.1.4)\n",
      "Requirement already satisfied: rfc3986-validator>=0.1.1 in /Users/taanhtuan/miniconda3/envs/churn/lib/python3.12/site-packages (from jupyter-events>=0.11.0->jupyter-server<3,>=2.4.0->notebook==7.2.2->-r requirements.txt (line 9)) (0.1.1)\n",
      "Requirement already satisfied: fqdn in /Users/taanhtuan/miniconda3/envs/churn/lib/python3.12/site-packages (from jsonschema[format-nongpl]>=4.18.0->jupyter-events>=0.11.0->jupyter-server<3,>=2.4.0->notebook==7.2.2->-r requirements.txt (line 9)) (1.5.1)\n",
      "Requirement already satisfied: isoduration in /Users/taanhtuan/miniconda3/envs/churn/lib/python3.12/site-packages (from jsonschema[format-nongpl]>=4.18.0->jupyter-events>=0.11.0->jupyter-server<3,>=2.4.0->notebook==7.2.2->-r requirements.txt (line 9)) (20.11.0)\n",
      "Requirement already satisfied: jsonpointer>1.13 in /Users/taanhtuan/miniconda3/envs/churn/lib/python3.12/site-packages (from jsonschema[format-nongpl]>=4.18.0->jupyter-events>=0.11.0->jupyter-server<3,>=2.4.0->notebook==7.2.2->-r requirements.txt (line 9)) (3.0.0)\n",
      "Requirement already satisfied: rfc3987-syntax>=1.1.0 in /Users/taanhtuan/miniconda3/envs/churn/lib/python3.12/site-packages (from jsonschema[format-nongpl]>=4.18.0->jupyter-events>=0.11.0->jupyter-server<3,>=2.4.0->notebook==7.2.2->-r requirements.txt (line 9)) (1.1.0)\n",
      "Requirement already satisfied: uri-template in /Users/taanhtuan/miniconda3/envs/churn/lib/python3.12/site-packages (from jsonschema[format-nongpl]>=4.18.0->jupyter-events>=0.11.0->jupyter-server<3,>=2.4.0->notebook==7.2.2->-r requirements.txt (line 9)) (1.3.0)\n",
      "Requirement already satisfied: webcolors>=24.6.0 in /Users/taanhtuan/miniconda3/envs/churn/lib/python3.12/site-packages (from jsonschema[format-nongpl]>=4.18.0->jupyter-events>=0.11.0->jupyter-server<3,>=2.4.0->notebook==7.2.2->-r requirements.txt (line 9)) (24.11.1)\n",
      "Requirement already satisfied: beautifulsoup4 in /Users/taanhtuan/miniconda3/envs/churn/lib/python3.12/site-packages (from nbconvert>=6.4.4->jupyter-server<3,>=2.4.0->notebook==7.2.2->-r requirements.txt (line 9)) (4.13.5)\n",
      "Requirement already satisfied: bleach!=5.0.0 in /Users/taanhtuan/miniconda3/envs/churn/lib/python3.12/site-packages (from bleach[css]!=5.0.0->nbconvert>=6.4.4->jupyter-server<3,>=2.4.0->notebook==7.2.2->-r requirements.txt (line 9)) (6.2.0)\n",
      "Requirement already satisfied: defusedxml in /Users/taanhtuan/miniconda3/envs/churn/lib/python3.12/site-packages (from nbconvert>=6.4.4->jupyter-server<3,>=2.4.0->notebook==7.2.2->-r requirements.txt (line 9)) (0.7.1)\n",
      "Requirement already satisfied: jupyterlab-pygments in /Users/taanhtuan/miniconda3/envs/churn/lib/python3.12/site-packages (from nbconvert>=6.4.4->jupyter-server<3,>=2.4.0->notebook==7.2.2->-r requirements.txt (line 9)) (0.3.0)\n",
      "Requirement already satisfied: mistune<4,>=2.0.3 in /Users/taanhtuan/miniconda3/envs/churn/lib/python3.12/site-packages (from nbconvert>=6.4.4->jupyter-server<3,>=2.4.0->notebook==7.2.2->-r requirements.txt (line 9)) (3.1.4)\n",
      "Requirement already satisfied: nbclient>=0.5.0 in /Users/taanhtuan/miniconda3/envs/churn/lib/python3.12/site-packages (from nbconvert>=6.4.4->jupyter-server<3,>=2.4.0->notebook==7.2.2->-r requirements.txt (line 9)) (0.10.2)\n",
      "Requirement already satisfied: pandocfilters>=1.4.1 in /Users/taanhtuan/miniconda3/envs/churn/lib/python3.12/site-packages (from nbconvert>=6.4.4->jupyter-server<3,>=2.4.0->notebook==7.2.2->-r requirements.txt (line 9)) (1.5.1)\n",
      "Requirement already satisfied: webencodings in /Users/taanhtuan/miniconda3/envs/churn/lib/python3.12/site-packages (from bleach!=5.0.0->bleach[css]!=5.0.0->nbconvert>=6.4.4->jupyter-server<3,>=2.4.0->notebook==7.2.2->-r requirements.txt (line 9)) (0.5.1)\n",
      "Requirement already satisfied: tinycss2<1.5,>=1.1.0 in /Users/taanhtuan/miniconda3/envs/churn/lib/python3.12/site-packages (from bleach[css]!=5.0.0->nbconvert>=6.4.4->jupyter-server<3,>=2.4.0->notebook==7.2.2->-r requirements.txt (line 9)) (1.4.0)\n",
      "Requirement already satisfied: fastjsonschema>=2.15 in /Users/taanhtuan/miniconda3/envs/churn/lib/python3.12/site-packages (from nbformat>=5.3.0->jupyter-server<3,>=2.4.0->notebook==7.2.2->-r requirements.txt (line 9)) (2.21.2)\n",
      "Requirement already satisfied: ptyprocess>=0.5 in /Users/taanhtuan/miniconda3/envs/churn/lib/python3.12/site-packages (from pexpect>4.3->ipython>=7.23.1->ipykernel==6.29.5->-r requirements.txt (line 10)) (0.7.0)\n",
      "Requirement already satisfied: six>=1.5 in /Users/taanhtuan/miniconda3/envs/churn/lib/python3.12/site-packages (from python-dateutil>=2.8.2->pandas==2.2.2->-r requirements.txt (line 2)) (1.17.0)\n",
      "Requirement already satisfied: charset_normalizer<4,>=2 in /Users/taanhtuan/miniconda3/envs/churn/lib/python3.12/site-packages (from requests>=2.31->jupyterlab-server<3,>=2.27.1->notebook==7.2.2->-r requirements.txt (line 9)) (3.4.3)\n",
      "Requirement already satisfied: urllib3<3,>=1.21.1 in /Users/taanhtuan/miniconda3/envs/churn/lib/python3.12/site-packages (from requests>=2.31->jupyterlab-server<3,>=2.27.1->notebook==7.2.2->-r requirements.txt (line 9)) (2.5.0)\n",
      "Requirement already satisfied: lark>=1.2.2 in /Users/taanhtuan/miniconda3/envs/churn/lib/python3.12/site-packages (from rfc3987-syntax>=1.1.0->jsonschema[format-nongpl]>=4.18.0->jupyter-events>=0.11.0->jupyter-server<3,>=2.4.0->notebook==7.2.2->-r requirements.txt (line 9)) (1.2.2)\n",
      "Requirement already satisfied: cffi>=1.0.1 in /Users/taanhtuan/miniconda3/envs/churn/lib/python3.12/site-packages (from argon2-cffi-bindings->argon2-cffi>=21.1->jupyter-server<3,>=2.4.0->notebook==7.2.2->-r requirements.txt (line 9)) (2.0.0)\n",
      "Requirement already satisfied: pycparser in /Users/taanhtuan/miniconda3/envs/churn/lib/python3.12/site-packages (from cffi>=1.0.1->argon2-cffi-bindings->argon2-cffi>=21.1->jupyter-server<3,>=2.4.0->notebook==7.2.2->-r requirements.txt (line 9)) (2.23)\n",
      "Requirement already satisfied: soupsieve>1.2 in /Users/taanhtuan/miniconda3/envs/churn/lib/python3.12/site-packages (from beautifulsoup4->nbconvert>=6.4.4->jupyter-server<3,>=2.4.0->notebook==7.2.2->-r requirements.txt (line 9)) (2.8)\n",
      "Requirement already satisfied: arrow>=0.15.0 in /Users/taanhtuan/miniconda3/envs/churn/lib/python3.12/site-packages (from isoduration->jsonschema[format-nongpl]>=4.18.0->jupyter-events>=0.11.0->jupyter-server<3,>=2.4.0->notebook==7.2.2->-r requirements.txt (line 9)) (1.3.0)\n",
      "Requirement already satisfied: types-python-dateutil>=2.8.10 in /Users/taanhtuan/miniconda3/envs/churn/lib/python3.12/site-packages (from arrow>=0.15.0->isoduration->jsonschema[format-nongpl]>=4.18.0->jupyter-events>=0.11.0->jupyter-server<3,>=2.4.0->notebook==7.2.2->-r requirements.txt (line 9)) (2.9.0.20250822)\n",
      "Requirement already satisfied: llvmlite<0.46,>=0.45.0dev0 in /Users/taanhtuan/miniconda3/envs/churn/lib/python3.12/site-packages (from numba->shap==0.45.1->-r requirements.txt (line 7)) (0.45.0)\n",
      "Requirement already satisfied: executing>=1.2.0 in /Users/taanhtuan/miniconda3/envs/churn/lib/python3.12/site-packages (from stack_data->ipython>=7.23.1->ipykernel==6.29.5->-r requirements.txt (line 10)) (2.2.1)\n",
      "Requirement already satisfied: asttokens>=2.1.0 in /Users/taanhtuan/miniconda3/envs/churn/lib/python3.12/site-packages (from stack_data->ipython>=7.23.1->ipykernel==6.29.5->-r requirements.txt (line 10)) (3.0.0)\n",
      "Requirement already satisfied: pure-eval in /Users/taanhtuan/miniconda3/envs/churn/lib/python3.12/site-packages (from stack_data->ipython>=7.23.1->ipykernel==6.29.5->-r requirements.txt (line 10)) (0.2.3)\n"
     ]
    }
   ],
   "source": [
    "!pip install -r requirements.txt"
   ]
  },
  {
   "cell_type": "markdown",
   "id": "53e9caf9-f7d1-49bb-a249-6edf17608cfc",
   "metadata": {},
   "source": [
    "# 2. Import Libraries"
   ]
  },
  {
   "cell_type": "code",
   "execution_count": 2,
   "id": "0f5a91b2-81eb-4cb5-8a6b-d21b51a26ee0",
   "metadata": {},
   "outputs": [],
   "source": [
    "import pandas as pd\n",
    "import seaborn as sns\n",
    "import numpy as np\n",
    "import matplotlib.pyplot as plt\n",
    "from matplotlib.ticker import PercentFormatter\n",
    "\n",
    "from sklearn.model_selection import train_test_split\n",
    "from sklearn.preprocessing import OneHotEncoder\n",
    "from sklearn.compose import ColumnTransformer\n",
    "from sklearn.pipeline import Pipeline\n",
    "from sklearn.ensemble import RandomForestClassifier\n",
    "import shap\n",
    "\n",
    "from sklearn.preprocessing import StandardScaler, OneHotEncoder\n",
    "from sklearn.compose import ColumnTransformer\n",
    "from sklearn.cluster import KMeans\n",
    "from sklearn.metrics import silhouette_score\n",
    "from sklearn.decomposition import PCA"
   ]
  },
  {
   "cell_type": "markdown",
   "id": "2f56a428-7115-4d15-86a4-03f97727b76d",
   "metadata": {},
   "source": [
    "# 3. Load Data & Quick Look"
   ]
  },
  {
   "cell_type": "code",
   "execution_count": 3,
   "id": "9135ed28-9966-48af-a192-d682d49ed0ff",
   "metadata": {},
   "outputs": [],
   "source": [
    "DATA_PATH = r\"Dataset/saas_customer_churn.csv\""
   ]
  },
  {
   "cell_type": "code",
   "execution_count": 4,
   "id": "dff7ae7c-a603-478a-a5ef-b6e2e5137981",
   "metadata": {},
   "outputs": [
    {
     "name": "stderr",
     "output_type": "stream",
     "text": [
      "/var/folders/6x/h489kd6s4lxbdnxrhw8mvt140000gn/T/ipykernel_42193/2144582446.py:1: DtypeWarning: Columns (13) have mixed types. Specify dtype option on import or set low_memory=False.\n",
      "  df = pd.read_csv(DATA_PATH)\n"
     ]
    }
   ],
   "source": [
    "df = pd.read_csv(DATA_PATH)"
   ]
  },
  {
   "cell_type": "code",
   "execution_count": 5,
   "id": "36cd7a41-a3d1-4e20-8659-224b85001657",
   "metadata": {},
   "outputs": [
    {
     "data": {
      "text/plain": [
       "Index(['age', 'gender', 'security_no', 'region_category',\n",
       "       'membership_category', 'joining_date', 'joined_through_referral',\n",
       "       'referral_id', 'preferred_offer_types', 'medium_of_operation',\n",
       "       'internet_option', 'last_visit_time', 'days_since_last_login',\n",
       "       'avg_time_spent', 'avg_transaction_value', 'avg_frequency_login_days',\n",
       "       'points_in_wallet', 'used_special_discount',\n",
       "       'offer_application_preference', 'past_complaint', 'complaint_status',\n",
       "       'feedback', 'churn_risk_score'],\n",
       "      dtype='object')"
      ]
     },
     "execution_count": 5,
     "metadata": {},
     "output_type": "execute_result"
    }
   ],
   "source": [
    "df.columns"
   ]
  },
  {
   "cell_type": "code",
   "execution_count": 6,
   "id": "4348a345-0239-4c88-87e9-529bf392a6ee",
   "metadata": {},
   "outputs": [
    {
     "data": {
      "text/plain": [
       "(36992, 23)"
      ]
     },
     "execution_count": 6,
     "metadata": {},
     "output_type": "execute_result"
    }
   ],
   "source": [
    "df.shape"
   ]
  },
  {
   "cell_type": "code",
   "execution_count": 7,
   "id": "2be3de7a-ae85-4555-8d51-d9933d46f422",
   "metadata": {},
   "outputs": [
    {
     "data": {
      "text/html": [
       "<div>\n",
       "<style scoped>\n",
       "    .dataframe tbody tr th:only-of-type {\n",
       "        vertical-align: middle;\n",
       "    }\n",
       "\n",
       "    .dataframe tbody tr th {\n",
       "        vertical-align: top;\n",
       "    }\n",
       "\n",
       "    .dataframe thead th {\n",
       "        text-align: right;\n",
       "    }\n",
       "</style>\n",
       "<table border=\"1\" class=\"dataframe\">\n",
       "  <thead>\n",
       "    <tr style=\"text-align: right;\">\n",
       "      <th></th>\n",
       "      <th>age</th>\n",
       "      <th>gender</th>\n",
       "      <th>security_no</th>\n",
       "      <th>region_category</th>\n",
       "      <th>membership_category</th>\n",
       "      <th>joining_date</th>\n",
       "      <th>joined_through_referral</th>\n",
       "      <th>referral_id</th>\n",
       "      <th>preferred_offer_types</th>\n",
       "      <th>medium_of_operation</th>\n",
       "      <th>...</th>\n",
       "      <th>avg_time_spent</th>\n",
       "      <th>avg_transaction_value</th>\n",
       "      <th>avg_frequency_login_days</th>\n",
       "      <th>points_in_wallet</th>\n",
       "      <th>used_special_discount</th>\n",
       "      <th>offer_application_preference</th>\n",
       "      <th>past_complaint</th>\n",
       "      <th>complaint_status</th>\n",
       "      <th>feedback</th>\n",
       "      <th>churn_risk_score</th>\n",
       "    </tr>\n",
       "  </thead>\n",
       "  <tbody>\n",
       "    <tr>\n",
       "      <th>0</th>\n",
       "      <td>18</td>\n",
       "      <td>F</td>\n",
       "      <td>XW0DQ7H</td>\n",
       "      <td>Village</td>\n",
       "      <td>Platinum Membership</td>\n",
       "      <td>17-08-2017</td>\n",
       "      <td>No</td>\n",
       "      <td>xxxxxxxx</td>\n",
       "      <td>Gift Vouchers/Coupons</td>\n",
       "      <td>?</td>\n",
       "      <td>...</td>\n",
       "      <td>300.63</td>\n",
       "      <td>53005.25</td>\n",
       "      <td>17</td>\n",
       "      <td>781.75</td>\n",
       "      <td>Yes</td>\n",
       "      <td>Yes</td>\n",
       "      <td>No</td>\n",
       "      <td>Not Applicable</td>\n",
       "      <td>Products always in Stock</td>\n",
       "      <td>0</td>\n",
       "    </tr>\n",
       "    <tr>\n",
       "      <th>1</th>\n",
       "      <td>32</td>\n",
       "      <td>F</td>\n",
       "      <td>5K0N3X1</td>\n",
       "      <td>City</td>\n",
       "      <td>Premium Membership</td>\n",
       "      <td>28-08-2017</td>\n",
       "      <td>?</td>\n",
       "      <td>CID21329</td>\n",
       "      <td>Gift Vouchers/Coupons</td>\n",
       "      <td>Desktop</td>\n",
       "      <td>...</td>\n",
       "      <td>306.34</td>\n",
       "      <td>12838.38</td>\n",
       "      <td>10</td>\n",
       "      <td>NaN</td>\n",
       "      <td>Yes</td>\n",
       "      <td>No</td>\n",
       "      <td>Yes</td>\n",
       "      <td>Solved</td>\n",
       "      <td>Quality Customer Care</td>\n",
       "      <td>0</td>\n",
       "    </tr>\n",
       "    <tr>\n",
       "      <th>2</th>\n",
       "      <td>44</td>\n",
       "      <td>F</td>\n",
       "      <td>1F2TCL3</td>\n",
       "      <td>Town</td>\n",
       "      <td>No Membership</td>\n",
       "      <td>11-11-2016</td>\n",
       "      <td>Yes</td>\n",
       "      <td>CID12313</td>\n",
       "      <td>Gift Vouchers/Coupons</td>\n",
       "      <td>Desktop</td>\n",
       "      <td>...</td>\n",
       "      <td>516.16</td>\n",
       "      <td>21027.00</td>\n",
       "      <td>22</td>\n",
       "      <td>500.69</td>\n",
       "      <td>No</td>\n",
       "      <td>Yes</td>\n",
       "      <td>Yes</td>\n",
       "      <td>Solved in Follow-up</td>\n",
       "      <td>Poor Website</td>\n",
       "      <td>1</td>\n",
       "    </tr>\n",
       "    <tr>\n",
       "      <th>3</th>\n",
       "      <td>37</td>\n",
       "      <td>M</td>\n",
       "      <td>VJGJ33N</td>\n",
       "      <td>City</td>\n",
       "      <td>No Membership</td>\n",
       "      <td>29-10-2016</td>\n",
       "      <td>Yes</td>\n",
       "      <td>CID3793</td>\n",
       "      <td>Gift Vouchers/Coupons</td>\n",
       "      <td>Desktop</td>\n",
       "      <td>...</td>\n",
       "      <td>53.27</td>\n",
       "      <td>25239.56</td>\n",
       "      <td>6</td>\n",
       "      <td>567.66</td>\n",
       "      <td>No</td>\n",
       "      <td>Yes</td>\n",
       "      <td>Yes</td>\n",
       "      <td>Unsolved</td>\n",
       "      <td>Poor Website</td>\n",
       "      <td>1</td>\n",
       "    </tr>\n",
       "    <tr>\n",
       "      <th>4</th>\n",
       "      <td>31</td>\n",
       "      <td>F</td>\n",
       "      <td>SVZXCWB</td>\n",
       "      <td>City</td>\n",
       "      <td>No Membership</td>\n",
       "      <td>12-09-2017</td>\n",
       "      <td>No</td>\n",
       "      <td>xxxxxxxx</td>\n",
       "      <td>Credit/Debit Card Offers</td>\n",
       "      <td>Smartphone</td>\n",
       "      <td>...</td>\n",
       "      <td>113.13</td>\n",
       "      <td>24483.66</td>\n",
       "      <td>16</td>\n",
       "      <td>663.06</td>\n",
       "      <td>No</td>\n",
       "      <td>Yes</td>\n",
       "      <td>Yes</td>\n",
       "      <td>Solved</td>\n",
       "      <td>Poor Website</td>\n",
       "      <td>1</td>\n",
       "    </tr>\n",
       "  </tbody>\n",
       "</table>\n",
       "<p>5 rows × 23 columns</p>\n",
       "</div>"
      ],
      "text/plain": [
       "   age gender security_no region_category  membership_category joining_date  \\\n",
       "0   18      F     XW0DQ7H         Village  Platinum Membership   17-08-2017   \n",
       "1   32      F     5K0N3X1            City   Premium Membership   28-08-2017   \n",
       "2   44      F     1F2TCL3            Town        No Membership   11-11-2016   \n",
       "3   37      M     VJGJ33N            City        No Membership   29-10-2016   \n",
       "4   31      F     SVZXCWB            City        No Membership   12-09-2017   \n",
       "\n",
       "  joined_through_referral referral_id     preferred_offer_types  \\\n",
       "0                      No    xxxxxxxx     Gift Vouchers/Coupons   \n",
       "1                       ?    CID21329     Gift Vouchers/Coupons   \n",
       "2                     Yes    CID12313     Gift Vouchers/Coupons   \n",
       "3                     Yes     CID3793     Gift Vouchers/Coupons   \n",
       "4                      No    xxxxxxxx  Credit/Debit Card Offers   \n",
       "\n",
       "  medium_of_operation  ... avg_time_spent avg_transaction_value  \\\n",
       "0                   ?  ...         300.63              53005.25   \n",
       "1             Desktop  ...         306.34              12838.38   \n",
       "2             Desktop  ...         516.16              21027.00   \n",
       "3             Desktop  ...          53.27              25239.56   \n",
       "4          Smartphone  ...         113.13              24483.66   \n",
       "\n",
       "   avg_frequency_login_days points_in_wallet  used_special_discount  \\\n",
       "0                        17           781.75                    Yes   \n",
       "1                        10              NaN                    Yes   \n",
       "2                        22           500.69                     No   \n",
       "3                         6           567.66                     No   \n",
       "4                        16           663.06                     No   \n",
       "\n",
       "  offer_application_preference  past_complaint     complaint_status  \\\n",
       "0                          Yes              No       Not Applicable   \n",
       "1                           No             Yes               Solved   \n",
       "2                          Yes             Yes  Solved in Follow-up   \n",
       "3                          Yes             Yes             Unsolved   \n",
       "4                          Yes             Yes               Solved   \n",
       "\n",
       "                   feedback churn_risk_score  \n",
       "0  Products always in Stock                0  \n",
       "1     Quality Customer Care                0  \n",
       "2              Poor Website                1  \n",
       "3              Poor Website                1  \n",
       "4              Poor Website                1  \n",
       "\n",
       "[5 rows x 23 columns]"
      ]
     },
     "execution_count": 7,
     "metadata": {},
     "output_type": "execute_result"
    }
   ],
   "source": [
    "df.head(5)"
   ]
  },
  {
   "cell_type": "code",
   "execution_count": 8,
   "id": "ee3fac5a-d73c-4a71-afd7-b04201817e69",
   "metadata": {},
   "outputs": [
    {
     "name": "stdout",
     "output_type": "stream",
     "text": [
      "<class 'pandas.core.frame.DataFrame'>\n",
      "RangeIndex: 36992 entries, 0 to 36991\n",
      "Data columns (total 23 columns):\n",
      " #   Column                        Non-Null Count  Dtype  \n",
      "---  ------                        --------------  -----  \n",
      " 0   age                           36992 non-null  int64  \n",
      " 1   gender                        36992 non-null  object \n",
      " 2   security_no                   36992 non-null  object \n",
      " 3   region_category               31564 non-null  object \n",
      " 4   membership_category           36992 non-null  object \n",
      " 5   joining_date                  36992 non-null  object \n",
      " 6   joined_through_referral       36992 non-null  object \n",
      " 7   referral_id                   36992 non-null  object \n",
      " 8   preferred_offer_types         36704 non-null  object \n",
      " 9   medium_of_operation           36992 non-null  object \n",
      " 10  internet_option               36992 non-null  object \n",
      " 11  last_visit_time               36992 non-null  object \n",
      " 12  days_since_last_login         36992 non-null  int64  \n",
      " 13  avg_time_spent                36992 non-null  object \n",
      " 14  avg_transaction_value         36992 non-null  float64\n",
      " 15  avg_frequency_login_days      36992 non-null  object \n",
      " 16  points_in_wallet              33549 non-null  float64\n",
      " 17  used_special_discount         36992 non-null  object \n",
      " 18  offer_application_preference  36992 non-null  object \n",
      " 19  past_complaint                36992 non-null  object \n",
      " 20  complaint_status              36992 non-null  object \n",
      " 21  feedback                      36990 non-null  object \n",
      " 22  churn_risk_score              36992 non-null  int64  \n",
      "dtypes: float64(2), int64(3), object(18)\n",
      "memory usage: 6.5+ MB\n"
     ]
    }
   ],
   "source": [
    "df.info()"
   ]
  },
  {
   "cell_type": "markdown",
   "id": "3477d100-ed8e-48b9-98db-7511b0229c49",
   "metadata": {},
   "source": [
    "# 4. Missing, Duplicates, Wrong Format Checking"
   ]
  },
  {
   "cell_type": "markdown",
   "id": "1f43199e-6a35-4e9d-a96e-86015f07526f",
   "metadata": {},
   "source": [
    "### Missing"
   ]
  },
  {
   "cell_type": "code",
   "execution_count": 9,
   "id": "d7f024f7-4658-4777-9726-7865dd799b24",
   "metadata": {},
   "outputs": [
    {
     "data": {
      "text/html": [
       "<div>\n",
       "<style scoped>\n",
       "    .dataframe tbody tr th:only-of-type {\n",
       "        vertical-align: middle;\n",
       "    }\n",
       "\n",
       "    .dataframe tbody tr th {\n",
       "        vertical-align: top;\n",
       "    }\n",
       "\n",
       "    .dataframe thead th {\n",
       "        text-align: right;\n",
       "    }\n",
       "</style>\n",
       "<table border=\"1\" class=\"dataframe\">\n",
       "  <thead>\n",
       "    <tr style=\"text-align: right;\">\n",
       "      <th></th>\n",
       "      <th>missing</th>\n",
       "      <th>missing_%</th>\n",
       "    </tr>\n",
       "  </thead>\n",
       "  <tbody>\n",
       "    <tr>\n",
       "      <th>feedback</th>\n",
       "      <td>2</td>\n",
       "      <td>0.01</td>\n",
       "    </tr>\n",
       "    <tr>\n",
       "      <th>points_in_wallet</th>\n",
       "      <td>3443</td>\n",
       "      <td>9.31</td>\n",
       "    </tr>\n",
       "    <tr>\n",
       "      <th>preferred_offer_types</th>\n",
       "      <td>288</td>\n",
       "      <td>0.78</td>\n",
       "    </tr>\n",
       "    <tr>\n",
       "      <th>region_category</th>\n",
       "      <td>5428</td>\n",
       "      <td>14.67</td>\n",
       "    </tr>\n",
       "  </tbody>\n",
       "</table>\n",
       "</div>"
      ],
      "text/plain": [
       "                       missing  missing_%\n",
       "feedback                     2       0.01\n",
       "points_in_wallet          3443       9.31\n",
       "preferred_offer_types      288       0.78\n",
       "region_category           5428      14.67"
      ]
     },
     "execution_count": 9,
     "metadata": {},
     "output_type": "execute_result"
    }
   ],
   "source": [
    "missing = df.isna().sum().sort_values(ascending=False)\n",
    "(pd.DataFrame({\"missing\": missing, \"missing_%\": (df.isna().mean()*100).round(2)})\n",
    " .query(\"missing > 0\")\n",
    " .head(20))"
   ]
  },
  {
   "cell_type": "markdown",
   "id": "606e18dc-7917-47c4-bc02-c6ab65c10c07",
   "metadata": {},
   "source": [
    "Missing Values Evaluation\n",
    "- `feedback`: negligible (0.01%), fill with `\"Unknown\"`.    \n",
    "- `points_in_wallet`: moderate (9.3%), impute with median.  \n",
    "- `preferred_offer_types`: low (0.8%), fill with mode/`Unknown`.  \n",
    "- `region_category`: higher (14.7%), fill with `Unknown`.  "
   ]
  },
  {
   "cell_type": "markdown",
   "id": "5d80536c-56c9-4860-bf60-ca969f7eeffd",
   "metadata": {},
   "source": [
    "### Duplicates"
   ]
  },
  {
   "cell_type": "code",
   "execution_count": 10,
   "id": "6b912361-8544-459b-a779-06a52000846e",
   "metadata": {},
   "outputs": [
    {
     "data": {
      "text/plain": [
       "0"
      ]
     },
     "execution_count": 10,
     "metadata": {},
     "output_type": "execute_result"
    }
   ],
   "source": [
    "df.duplicated().sum()"
   ]
  },
  {
   "cell_type": "markdown",
   "id": "dfdcc9b8-895a-4d42-b4f5-3637490303f4",
   "metadata": {},
   "source": [
    "Duplicate Check\n",
    "- No duplicate rows found → dataset records are unique.  "
   ]
  },
  {
   "cell_type": "markdown",
   "id": "f8b9b0ef-6c24-4065-9bd0-950b03f4ec24",
   "metadata": {},
   "source": [
    "### Numeric summary (pre-clean)"
   ]
  },
  {
   "cell_type": "code",
   "execution_count": 11,
   "id": "ba02bb59-aec5-44a9-b003-1204eef7c7f7",
   "metadata": {},
   "outputs": [
    {
     "data": {
      "text/html": [
       "<div>\n",
       "<style scoped>\n",
       "    .dataframe tbody tr th:only-of-type {\n",
       "        vertical-align: middle;\n",
       "    }\n",
       "\n",
       "    .dataframe tbody tr th {\n",
       "        vertical-align: top;\n",
       "    }\n",
       "\n",
       "    .dataframe thead th {\n",
       "        text-align: right;\n",
       "    }\n",
       "</style>\n",
       "<table border=\"1\" class=\"dataframe\">\n",
       "  <thead>\n",
       "    <tr style=\"text-align: right;\">\n",
       "      <th></th>\n",
       "      <th>age</th>\n",
       "      <th>days_since_last_login</th>\n",
       "      <th>avg_transaction_value</th>\n",
       "      <th>points_in_wallet</th>\n",
       "      <th>churn_risk_score</th>\n",
       "    </tr>\n",
       "  </thead>\n",
       "  <tbody>\n",
       "    <tr>\n",
       "      <th>count</th>\n",
       "      <td>36992.000000</td>\n",
       "      <td>36992.000000</td>\n",
       "      <td>36992.000000</td>\n",
       "      <td>33549.000000</td>\n",
       "      <td>36992.000000</td>\n",
       "    </tr>\n",
       "    <tr>\n",
       "      <th>mean</th>\n",
       "      <td>37.118161</td>\n",
       "      <td>-41.915576</td>\n",
       "      <td>29271.194003</td>\n",
       "      <td>686.882199</td>\n",
       "      <td>0.540982</td>\n",
       "    </tr>\n",
       "    <tr>\n",
       "      <th>std</th>\n",
       "      <td>15.867412</td>\n",
       "      <td>228.819900</td>\n",
       "      <td>19444.806226</td>\n",
       "      <td>194.063624</td>\n",
       "      <td>0.498324</td>\n",
       "    </tr>\n",
       "    <tr>\n",
       "      <th>min</th>\n",
       "      <td>10.000000</td>\n",
       "      <td>-999.000000</td>\n",
       "      <td>800.460000</td>\n",
       "      <td>-760.661236</td>\n",
       "      <td>0.000000</td>\n",
       "    </tr>\n",
       "    <tr>\n",
       "      <th>25%</th>\n",
       "      <td>23.000000</td>\n",
       "      <td>8.000000</td>\n",
       "      <td>14177.540000</td>\n",
       "      <td>616.150000</td>\n",
       "      <td>0.000000</td>\n",
       "    </tr>\n",
       "    <tr>\n",
       "      <th>50%</th>\n",
       "      <td>37.000000</td>\n",
       "      <td>12.000000</td>\n",
       "      <td>27554.485000</td>\n",
       "      <td>697.620000</td>\n",
       "      <td>1.000000</td>\n",
       "    </tr>\n",
       "    <tr>\n",
       "      <th>75%</th>\n",
       "      <td>51.000000</td>\n",
       "      <td>16.000000</td>\n",
       "      <td>40855.110000</td>\n",
       "      <td>763.950000</td>\n",
       "      <td>1.000000</td>\n",
       "    </tr>\n",
       "    <tr>\n",
       "      <th>max</th>\n",
       "      <td>64.000000</td>\n",
       "      <td>26.000000</td>\n",
       "      <td>99914.050000</td>\n",
       "      <td>2069.069761</td>\n",
       "      <td>1.000000</td>\n",
       "    </tr>\n",
       "  </tbody>\n",
       "</table>\n",
       "</div>"
      ],
      "text/plain": [
       "                age  days_since_last_login  avg_transaction_value  \\\n",
       "count  36992.000000           36992.000000           36992.000000   \n",
       "mean      37.118161             -41.915576           29271.194003   \n",
       "std       15.867412             228.819900           19444.806226   \n",
       "min       10.000000            -999.000000             800.460000   \n",
       "25%       23.000000               8.000000           14177.540000   \n",
       "50%       37.000000              12.000000           27554.485000   \n",
       "75%       51.000000              16.000000           40855.110000   \n",
       "max       64.000000              26.000000           99914.050000   \n",
       "\n",
       "       points_in_wallet  churn_risk_score  \n",
       "count      33549.000000      36992.000000  \n",
       "mean         686.882199          0.540982  \n",
       "std          194.063624          0.498324  \n",
       "min         -760.661236          0.000000  \n",
       "25%          616.150000          0.000000  \n",
       "50%          697.620000          1.000000  \n",
       "75%          763.950000          1.000000  \n",
       "max         2069.069761          1.000000  "
      ]
     },
     "execution_count": 11,
     "metadata": {},
     "output_type": "execute_result"
    }
   ],
   "source": [
    "df.describe(include=[np.number])"
   ]
  },
  {
   "cell_type": "markdown",
   "id": "57b2532d-6b16-48b3-beb5-eada5f0cb1d0",
   "metadata": {},
   "source": [
    "### Numeric Summary Evaluation\n",
    "- `age`: Values 10–64, reasonable.  \n",
    "- `days_since_last_login`: Invalid negatives (min = -999), needs cleaning.  \n",
    "- `avg_transaction_value`: Wide range (800–99914), potential outliers.  \n",
    "- `points_in_wallet`: Invalid negatives (min = -760), needs correction.  \n",
    "- `churn_risk_score`: Bounded 0–1, distribution looks valid.  "
   ]
  },
  {
   "cell_type": "markdown",
   "id": "5c1882d5-9475-48da-ad01-572c51efcc0b",
   "metadata": {},
   "source": [
    "### Categorical snapshot (pre-clean)"
   ]
  },
  {
   "cell_type": "code",
   "execution_count": 12,
   "id": "8b126851-08f4-493b-b1ca-ce7a5f969239",
   "metadata": {},
   "outputs": [
    {
     "data": {
      "text/html": [
       "<div>\n",
       "<style scoped>\n",
       "    .dataframe tbody tr th:only-of-type {\n",
       "        vertical-align: middle;\n",
       "    }\n",
       "\n",
       "    .dataframe tbody tr th {\n",
       "        vertical-align: top;\n",
       "    }\n",
       "\n",
       "    .dataframe thead th {\n",
       "        text-align: right;\n",
       "    }\n",
       "</style>\n",
       "<table border=\"1\" class=\"dataframe\">\n",
       "  <thead>\n",
       "    <tr style=\"text-align: right;\">\n",
       "      <th></th>\n",
       "      <th>gender</th>\n",
       "      <th>security_no</th>\n",
       "      <th>region_category</th>\n",
       "      <th>membership_category</th>\n",
       "      <th>joining_date</th>\n",
       "      <th>joined_through_referral</th>\n",
       "      <th>referral_id</th>\n",
       "      <th>preferred_offer_types</th>\n",
       "      <th>medium_of_operation</th>\n",
       "      <th>internet_option</th>\n",
       "      <th>last_visit_time</th>\n",
       "      <th>avg_time_spent</th>\n",
       "      <th>avg_frequency_login_days</th>\n",
       "      <th>used_special_discount</th>\n",
       "      <th>offer_application_preference</th>\n",
       "      <th>past_complaint</th>\n",
       "      <th>complaint_status</th>\n",
       "      <th>feedback</th>\n",
       "    </tr>\n",
       "  </thead>\n",
       "  <tbody>\n",
       "    <tr>\n",
       "      <th>count</th>\n",
       "      <td>36992</td>\n",
       "      <td>36992</td>\n",
       "      <td>31564</td>\n",
       "      <td>36992</td>\n",
       "      <td>36992</td>\n",
       "      <td>36992</td>\n",
       "      <td>36992</td>\n",
       "      <td>36704</td>\n",
       "      <td>36992</td>\n",
       "      <td>36992</td>\n",
       "      <td>36992</td>\n",
       "      <td>36992</td>\n",
       "      <td>36992</td>\n",
       "      <td>36992</td>\n",
       "      <td>36992</td>\n",
       "      <td>36992</td>\n",
       "      <td>36992</td>\n",
       "      <td>36990</td>\n",
       "    </tr>\n",
       "    <tr>\n",
       "      <th>unique</th>\n",
       "      <td>3</td>\n",
       "      <td>36992</td>\n",
       "      <td>3</td>\n",
       "      <td>6</td>\n",
       "      <td>1100</td>\n",
       "      <td>3</td>\n",
       "      <td>11359</td>\n",
       "      <td>3</td>\n",
       "      <td>4</td>\n",
       "      <td>3</td>\n",
       "      <td>30101</td>\n",
       "      <td>27525</td>\n",
       "      <td>1654</td>\n",
       "      <td>4</td>\n",
       "      <td>5</td>\n",
       "      <td>4</td>\n",
       "      <td>5</td>\n",
       "      <td>12</td>\n",
       "    </tr>\n",
       "    <tr>\n",
       "      <th>top</th>\n",
       "      <td>F</td>\n",
       "      <td>XW0DQ7H</td>\n",
       "      <td>Town</td>\n",
       "      <td>Basic Membership</td>\n",
       "      <td>02-06-2015</td>\n",
       "      <td>No</td>\n",
       "      <td>xxxxxxxx</td>\n",
       "      <td>Gift Vouchers/Coupons</td>\n",
       "      <td>Desktop</td>\n",
       "      <td>Wi-Fi</td>\n",
       "      <td>7:56:41</td>\n",
       "      <td>34.1</td>\n",
       "      <td>Error</td>\n",
       "      <td>Yes</td>\n",
       "      <td>Yes</td>\n",
       "      <td>No</td>\n",
       "      <td>Not Applicable</td>\n",
       "      <td>Poor Product Quality</td>\n",
       "    </tr>\n",
       "    <tr>\n",
       "      <th>freq</th>\n",
       "      <td>18490</td>\n",
       "      <td>1</td>\n",
       "      <td>14128</td>\n",
       "      <td>7724</td>\n",
       "      <td>55</td>\n",
       "      <td>15839</td>\n",
       "      <td>17846</td>\n",
       "      <td>12349</td>\n",
       "      <td>13913</td>\n",
       "      <td>12413</td>\n",
       "      <td>6</td>\n",
       "      <td>19</td>\n",
       "      <td>3522</td>\n",
       "      <td>20334</td>\n",
       "      <td>20432</td>\n",
       "      <td>18602</td>\n",
       "      <td>18602</td>\n",
       "      <td>6348</td>\n",
       "    </tr>\n",
       "  </tbody>\n",
       "</table>\n",
       "</div>"
      ],
      "text/plain": [
       "       gender security_no region_category membership_category joining_date  \\\n",
       "count   36992       36992           31564               36992        36992   \n",
       "unique      3       36992               3                   6         1100   \n",
       "top         F     XW0DQ7H            Town    Basic Membership   02-06-2015   \n",
       "freq    18490           1           14128                7724           55   \n",
       "\n",
       "       joined_through_referral referral_id  preferred_offer_types  \\\n",
       "count                    36992       36992                  36704   \n",
       "unique                       3       11359                      3   \n",
       "top                         No    xxxxxxxx  Gift Vouchers/Coupons   \n",
       "freq                     15839       17846                  12349   \n",
       "\n",
       "       medium_of_operation internet_option last_visit_time avg_time_spent  \\\n",
       "count                36992           36992           36992          36992   \n",
       "unique                   4               3           30101          27525   \n",
       "top                Desktop           Wi-Fi         7:56:41           34.1   \n",
       "freq                 13913           12413               6             19   \n",
       "\n",
       "       avg_frequency_login_days used_special_discount  \\\n",
       "count                     36992                 36992   \n",
       "unique                     1654                     4   \n",
       "top                       Error                   Yes   \n",
       "freq                       3522                 20334   \n",
       "\n",
       "       offer_application_preference past_complaint complaint_status  \\\n",
       "count                         36992          36992            36992   \n",
       "unique                            5              4                5   \n",
       "top                             Yes             No   Not Applicable   \n",
       "freq                          20432          18602            18602   \n",
       "\n",
       "                    feedback  \n",
       "count                  36990  \n",
       "unique                    12  \n",
       "top     Poor Product Quality  \n",
       "freq                    6348  "
      ]
     },
     "execution_count": 12,
     "metadata": {},
     "output_type": "execute_result"
    }
   ],
   "source": [
    "df.describe(include=[\"object\"])"
   ]
  },
  {
   "cell_type": "code",
   "execution_count": 13,
   "id": "21d58c81-aabf-4f56-b062-2633375cc174",
   "metadata": {},
   "outputs": [
    {
     "name": "stdout",
     "output_type": "stream",
     "text": [
      "\n",
      "=== gender | 3 unique values ===\n",
      "['F' 'M' 'Unknown']\n",
      "\n",
      "=== security_no | 36992 unique values ===\n",
      "['XW0DQ7H' '5K0N3X1' '1F2TCL3' ... 'XK1IM9H' 'K6VTP1Z' 'LBX0GLR']\n",
      "\n",
      "=== region_category | 3 unique values ===\n",
      "['Village' 'City' 'Town']\n",
      "\n",
      "=== membership_category | 6 unique values ===\n",
      "['Platinum Membership' 'Premium Membership' 'No Membership'\n",
      " 'Gold Membership' 'Silver Membership' 'Basic Membership']\n",
      "\n",
      "=== joining_date | 1100 unique values ===\n",
      "['17-08-2017' '28-08-2017' '11-11-2016' ... '11-12-2017' '25-09-2016'\n",
      " '15-04-2017']\n",
      "\n",
      "=== joined_through_referral | 3 unique values ===\n",
      "['No' '?' 'Yes']\n",
      "\n",
      "=== referral_id | 11359 unique values ===\n",
      "['xxxxxxxx' 'CID21329' 'CID12313' ... 'CID60808' 'CID10431' 'CID45477']\n",
      "\n",
      "=== preferred_offer_types | 3 unique values ===\n",
      "['Gift Vouchers/Coupons' 'Credit/Debit Card Offers' 'Without Offers']\n",
      "\n",
      "=== medium_of_operation | 4 unique values ===\n",
      "['?' 'Desktop' 'Smartphone' 'Both']\n",
      "\n",
      "=== internet_option | 3 unique values ===\n",
      "['Wi-Fi' 'Mobile_Data' 'Fiber_Optic']\n",
      "\n",
      "=== last_visit_time | 30101 unique values ===\n",
      "['16:08:02' '12:38:13' '22:53:21' ... '4:14:05' '9:50:03' '1:39:52']\n",
      "\n",
      "=== avg_time_spent | 27525 unique values ===\n",
      "['300.63' '306.34' '516.16' ... 154.94 482.61 79.18]\n",
      "\n",
      "=== avg_frequency_login_days | 1654 unique values ===\n",
      "['17' '10' '22' ... '-9.325511142' '-8.759329713' '27.83992744']\n",
      "\n",
      "=== used_special_discount | 4 unique values ===\n",
      "['Yes' 'No' 'yes' 'True']\n",
      "\n",
      "=== offer_application_preference | 5 unique values ===\n",
      "['Yes' 'No' 'yes' 'True' 'YES']\n",
      "\n",
      "=== past_complaint | 4 unique values ===\n",
      "['No' 'Yes' 'yes' 'YES']\n",
      "\n",
      "=== complaint_status | 5 unique values ===\n",
      "['Not Applicable' 'Solved' 'Solved in Follow-up' 'Unsolved'\n",
      " 'No Information Available']\n",
      "\n",
      "=== feedback | 12 unique values ===\n",
      "['Products always in Stock' 'Quality Customer Care' 'Poor Website'\n",
      " 'No reason specified' 'Poor Product Quality' 'Poor Customer Service'\n",
      " 'Too many ads' 'User Friendly Website' 'Reasonable Price' 'alkfjlks'\n",
      " 'XXXXXXX' 'Q']\n"
     ]
    }
   ],
   "source": [
    "# unique values for categorical columns\n",
    "cat_cols = df.select_dtypes(exclude=[np.number]).columns\n",
    "\n",
    "for c in cat_cols:\n",
    "    uniques = df[c].dropna().unique()\n",
    "    print(f\"\\n=== {c} | {len(uniques)} unique values ===\")\n",
    "    print(uniques)"
   ]
  },
  {
   "cell_type": "markdown",
   "id": "4bcf8fe3-f6db-4194-9daa-236dc5744253",
   "metadata": {},
   "source": [
    "### Categorical Summary Evaluation\n",
    "- `gender`: Clean (3 values: F, M, Unknown).  \n",
    "- `region_category`: 3 values, but ~15% missing → fill with `Unknown`.  \n",
    "- `membership_category`: 6 valid categories, no issues.  \n",
    "- `joined_through_referral`: Inconsistent (`Yes/No/?`) → normalize.  \n",
    "- `preferred_offer_types`: 3 values, some missing → fill `Unknown`.  \n",
    "- `medium_of_operation`: Contains `?` → replace with `Unknown`.  \n",
    "- `used_special_discount`, `offer_application_preference`, `past_complaint`: Mixed casing (`Yes/No/True`) → standardize.  \n",
    "- `complaint_status`: 5 categories, valid but can be grouped (`Solved`, `Unsolved`, `Not Applicable`).  \n",
    "- `feedback`: 12 categories, includes noise/typos (`XXXXXXX`, `Q`) → map to `Unknown/Other`.  \n",
    "- High-cardinality IDs (`security_no`, `referral_id`) → drop from analysis.\n",
    "- Some columns like `avg_time_spent`, `avg_frequency_login_days` should be Numeric, but exist on Categorical → Some values is non-numeric → Need to check them more"
   ]
  },
  {
   "cell_type": "markdown",
   "id": "4ffa94d9-132b-4f46-bb05-0d31dd82cf35",
   "metadata": {},
   "source": [
    "### Date Time Column - Format Checking"
   ]
  },
  {
   "cell_type": "code",
   "execution_count": 14,
   "id": "a719c80f-b711-4bd8-ab39-e4a2389aa0a5",
   "metadata": {},
   "outputs": [
    {
     "name": "stdout",
     "output_type": "stream",
     "text": [
      "       %d-%m-%Y  ->  36987 rows   examples: ['17-08-2017', '28-08-2017', '11-11-2016']\n",
      "       %d/%m/%Y  ->      3 rows   examples: ['12/07/2017', '17/08/2017', '17/08/2017']\n",
      "       %Y-%m-%d  ->      1 rows   examples: ['2017-03-06']\n",
      "       %d-%b-%Y  ->      1 rows   examples: ['16-Jan-2017']\n"
     ]
    }
   ],
   "source": [
    "# detect which date formats appear in `joining_date`\n",
    "s = df[\"joining_date\"].astype(str).str.strip()\n",
    "\n",
    "fmts = [\n",
    "    \"%d-%m-%Y\", \"%d/%m/%Y\", \"%Y-%m-%d\",\n",
    "    \"%m-%d-%Y\", \"%d-%b-%Y\", \"%b %d, %Y\", \"%d %b %Y\"\n",
    "]\n",
    "\n",
    "seen = pd.Series(False, index=s.index)\n",
    "results = []\n",
    "\n",
    "for f in fmts:\n",
    "    ok = pd.to_datetime(s, format=f, errors=\"coerce\").notna() & ~seen\n",
    "    if ok.any():\n",
    "        results.append((f, int(ok.sum()), s[ok].head(3).tolist()))\n",
    "        seen |= ok\n",
    "\n",
    "# anything else\n",
    "other = (~seen) & s.ne(\"\") & s.ne(\"NaT\")\n",
    "if other.any():\n",
    "    results.append((\"unrecognized/other\", int(other.sum()), s[other].head(3).tolist()))\n",
    "\n",
    "# print summary\n",
    "for f, cnt, ex in results:\n",
    "    print(f\"{f:>15}  -> {cnt:>6} rows   examples: {ex}\")"
   ]
  },
  {
   "cell_type": "markdown",
   "id": "561b6664-68df-4939-8ef2-d0bc95b87fd6",
   "metadata": {},
   "source": [
    "### Date Time Column Evaluation \n",
    "`joining_date`\n",
    "- Mostly `dd-mm-yyyy` → consistent.  \n",
    "- Few outliers: `dd/mm/yyyy`, `yyyy-mm-dd`, `dd-Mon-yyyy`.  \n",
    "- Normalize all to ISO `YYYY-MM-DD` and audit those 5 rows."
   ]
  },
  {
   "cell_type": "markdown",
   "id": "008e0399-6280-4531-8170-478189e0a988",
   "metadata": {},
   "source": [
    "### avg_time_spent & avg_frequency_login_days"
   ]
  },
  {
   "cell_type": "code",
   "execution_count": 15,
   "id": "ab0099c2-b3df-4497-a774-363bb9bb6cab",
   "metadata": {},
   "outputs": [
    {
     "name": "stdout",
     "output_type": "stream",
     "text": [
      "\n",
      "[avg_time_spent] non-numeric entries: 2 rows\n",
      "Top tokens:\n",
      "avg_time_spent\n",
      "$206.72         1\n",
      "$1076.928992    1\n",
      "Name: count, dtype: int64\n",
      "Examples: ['$206.72', '$1076.928992']\n",
      "\n",
      "[avg_frequency_login_days] non-numeric entries: 3522 rows\n",
      "Top tokens:\n",
      "avg_frequency_login_days\n",
      "Error    3522\n",
      "Name: count, dtype: int64\n",
      "Examples: ['Error']\n"
     ]
    }
   ],
   "source": [
    "# Cell — Check which \"should-be-numeric\" columns contain non-numeric values\n",
    "should_be_numeric = [\"avg_time_spent\", \"avg_frequency_login_days\"]\n",
    "\n",
    "import re\n",
    "pat_num = re.compile(r\"^[+-]?(\\d+(\\.\\d+)?|\\.\\d+)(e[+-]?\\d+)?$\")  # int/float/scientific\n",
    "\n",
    "for col in should_be_numeric:\n",
    "    s = df[col].astype(str).str.strip()\n",
    "    bad = s[(s != \"\") & (s.str.lower() != \"nan\") & (~s.map(lambda x: bool(pat_num.match(x))))]\n",
    "    print(f\"\\n[{col}] non-numeric entries: {bad.shape[0]} rows\")\n",
    "    if not bad.empty:\n",
    "        print(\"Top tokens:\")\n",
    "        print(bad.value_counts().head(10))\n",
    "        print(\"Examples:\", bad.unique()[:5].tolist())"
   ]
  },
  {
   "cell_type": "markdown",
   "id": "ae0aad7c-ba93-4b1d-ab76-687df5e6e52e",
   "metadata": {},
   "source": [
    "### avg_time_spent & avg_frequency_login_days\n",
    "- **avg_time_spent:** Mostly numeric, but 2 rows contain currency-formatted values (`$206.72`, `$1076.928992`) → need cleaning (`$` removal, convert to float).  \n",
    "- **avg_frequency_login_days:** 3,522 rows labeled as `'Error'` instead of numbers (~9.5% of data) → impute (e.g., median).  "
   ]
  },
  {
   "cell_type": "markdown",
   "id": "c2806532-199e-4cf5-bede-56c8abe0d4f6",
   "metadata": {},
   "source": [
    "# 5. Data Cleaning\n",
    "1) **Drop IDs:** `security_no`, `referral_id`.  \n",
    "2) **Normalize text:** strip whitespace; replace `?`, `XXXXXXX`, `Q` → `Unknown`; standardize booleans (`Yes/No`); optionally group `complaint_status`.  \n",
    "3) **Unify dates:** parse all `joining_date` formats → ISO `YYYY-MM-DD` (audit 5 outliers).  \n",
    "4) **Fix numerics:**  \n",
    "   - `avg_time_spent`: remove `$`, convert to float.  \n",
    "   - `avg_frequency_login_days`: replace `'Error'` → **0** (assume no activity).  \n",
    "   - `days_since_last_login`: replace negatives → **median**.  \n",
    "   - `points_in_wallet`: replace negatives → **0** (no balance).  \n",
    "5) **Impute & cap:** fill `region_category`/`preferred_offer_types`/`feedback` → `Unknown`; impute missing numerics with **mean/median**; cap extreme outliers at 99th percentile.  \n",
    "6) **Finalize:** drop duplicates (none found), set clean dtypes (categoricals/booleans), save cleaned dataset.  \n"
   ]
  },
  {
   "cell_type": "markdown",
   "id": "ffcb63d6-1049-461c-945b-be0159a106d7",
   "metadata": {},
   "source": [
    "### Drop IDs"
   ]
  },
  {
   "cell_type": "code",
   "execution_count": 16,
   "id": "c5054813-126a-4993-9bad-37df902b9597",
   "metadata": {},
   "outputs": [
    {
     "data": {
      "text/plain": [
       "(36992, 21)"
      ]
     },
     "execution_count": 16,
     "metadata": {},
     "output_type": "execute_result"
    }
   ],
   "source": [
    "drop_cols = [\"security_no\", \"referral_id\"]\n",
    "df = df.drop(columns=[c for c in drop_cols if c in df.columns], errors=\"ignore\")\n",
    "df.shape"
   ]
  },
  {
   "cell_type": "markdown",
   "id": "f909d3f6-c199-441b-ac76-e8210217b75f",
   "metadata": {},
   "source": [
    "### Normalize text columns "
   ]
  },
  {
   "cell_type": "code",
   "execution_count": 17,
   "id": "88cfeb1a-f07d-4024-bca5-aea78f1cacda",
   "metadata": {},
   "outputs": [],
   "source": [
    "for col in df.select_dtypes(include=\"object\").columns:\n",
    "    df[c] = (\n",
    "        df[col]\n",
    "        .astype(str)\n",
    "        .str.strip()                               # trim ends\n",
    "        .str.replace(r\"\\s+\", \" \", regex=True)      # collapse multiple spaces\n",
    "        .replace({\"?\": \"Unknown\",                  # placeholders → 'Unknown'\n",
    "                  \"XXXXXXX\": \"Unknown\",\n",
    "                  \"Q\": \"Unknown\"})\n",
    "    )"
   ]
  },
  {
   "cell_type": "markdown",
   "id": "5142650f-2a17-40aa-87c1-2f5926a849d1",
   "metadata": {},
   "source": [
    "### Standardize booleans to \"Yes\"/\"No\""
   ]
  },
  {
   "cell_type": "code",
   "execution_count": 18,
   "id": "1aababe8-6a10-4a1b-819d-0ddb6632909c",
   "metadata": {},
   "outputs": [],
   "source": [
    "YES = {\"yes\", \"y\", \"true\", \"1\"}\n",
    "NO  = {\"no\", \"n\", \"false\", \"0\"}\n",
    "\n",
    "bool_cols = [\"used_special_discount\", \"offer_application_preference\", \"past_complaint\"]\n",
    "for c in bool_cols:\n",
    "    if c in df.columns:\n",
    "        df[c] = df[c].map(lambda x: \"Yes\" if str(x).lower() in YES else (\"No\" if str(x).lower() in NO else \"Unknown\"))\n",
    "\n",
    "if \"joined_through_referral\" in df.columns:\n",
    "    df[\"joined_through_referral\"] = df[\"joined_through_referral\"].str.lower().map(\n",
    "        {\"yes\": \"Yes\", \"no\": \"No\", \"unknown\": \"Unknown\"}\n",
    "    ).fillna(\"Unknown\")\n"
   ]
  },
  {
   "cell_type": "markdown",
   "id": "e9154083-251e-400b-8856-8d299b5099da",
   "metadata": {},
   "source": [
    "### Parse dates (joining_date → datetime), keep ISO string if desired"
   ]
  },
  {
   "cell_type": "code",
   "execution_count": 19,
   "id": "a66fd94a-b7af-4086-bcab-274751fd28d5",
   "metadata": {},
   "outputs": [
    {
     "name": "stderr",
     "output_type": "stream",
     "text": [
      "/var/folders/6x/h489kd6s4lxbdnxrhw8mvt140000gn/T/ipykernel_42193/399520981.py:2: UserWarning: The argument 'infer_datetime_format' is deprecated and will be removed in a future version. A strict version of it is now the default, see https://pandas.pydata.org/pdeps/0004-consistent-to-datetime-parsing.html. You can safely remove this argument.\n",
      "  jd = pd.to_datetime(df[\"joining_date\"], errors=\"coerce\", dayfirst=True, infer_datetime_format=True)\n"
     ]
    }
   ],
   "source": [
    "if \"joining_date\" in df.columns:\n",
    "    jd = pd.to_datetime(df[\"joining_date\"], errors=\"coerce\", dayfirst=True, infer_datetime_format=True)\n",
    "    # replace failures with the column's mode date (or earliest valid date)\n",
    "    fill_date = jd.dropna().mode().iloc[0] if jd.notna().any() else pd.Timestamp(\"2017-01-01\")\n",
    "    jd = jd.fillna(fill_date)\n",
    "    df[\"joining_date\"] = jd\n",
    "    df[\"joining_date_iso\"] = df[\"joining_date\"].dt.strftime(\"%Y-%m-%d\")"
   ]
  },
  {
   "cell_type": "markdown",
   "id": "d82b56fe-0929-41e0-82fe-f5163371e225",
   "metadata": {},
   "source": [
    "### Fix numerics "
   ]
  },
  {
   "cell_type": "code",
   "execution_count": 20,
   "id": "6eb65824-5f55-441f-a2c3-f59163fa814d",
   "metadata": {},
   "outputs": [],
   "source": [
    "# avg_time_spent: remove $/commas, to float\n",
    "s = df[\"avg_time_spent\"].astype(str).str.replace(r\"[\\$,]\", \"\", regex=True)\n",
    "df[\"avg_time_spent\"] = pd.to_numeric(s, errors=\"coerce\")\n",
    "# Fill any remaining gaps with column median\n",
    "df[\"avg_time_spent\"] = df[\"avg_time_spent\"].fillna(df[\"avg_time_spent\"].median())"
   ]
  },
  {
   "cell_type": "code",
   "execution_count": 21,
   "id": "d09a9b49-b9e4-436c-9f95-31df60694a46",
   "metadata": {},
   "outputs": [],
   "source": [
    "# avg_frequency_login_days: 'Error' -> 0, then numeric\n",
    "s = df[\"avg_frequency_login_days\"].astype(str).str.strip()\n",
    "s = s.mask(s.str.lower().eq(\"error\"), \"0\")\n",
    "df[\"avg_frequency_login_days\"] = pd.to_numeric(s, errors=\"coerce\").fillna(0)"
   ]
  },
  {
   "cell_type": "code",
   "execution_count": 22,
   "id": "b14cba8a-ad89-4b74-9eac-81c63a42c206",
   "metadata": {},
   "outputs": [],
   "source": [
    "# days_since_last_login: negatives -> median of valid non-negative values\n",
    "nonneg_median = df.loc[df[\"days_since_last_login\"] >= 0, \"days_since_last_login\"].median()\n",
    "df.loc[df[\"days_since_last_login\"] < 0, \"days_since_last_login\"] = nonneg_median"
   ]
  },
  {
   "cell_type": "code",
   "execution_count": 23,
   "id": "6b45ec9c-2e5f-4b1b-8b72-290b27ef80f3",
   "metadata": {},
   "outputs": [],
   "source": [
    "# points_in_wallet: negatives -> 0 (no balance)\n",
    "df[\"points_in_wallet\"] = pd.to_numeric(df[\"points_in_wallet\"], errors=\"coerce\")\n",
    "df.loc[df[\"points_in_wallet\"] < 0, \"points_in_wallet\"] = 0\n",
    "df[\"points_in_wallet\"] = df[\"points_in_wallet\"].fillna(0)"
   ]
  },
  {
   "cell_type": "code",
   "execution_count": 24,
   "id": "848937c6-3c43-4410-880a-d1883f6db0ba",
   "metadata": {},
   "outputs": [],
   "source": [
    "### Impute categoricals & numerics (mean/median), then cap outliers"
   ]
  },
  {
   "cell_type": "code",
   "execution_count": 25,
   "id": "814b8ef1-d0c3-438c-b179-76949387d60e",
   "metadata": {},
   "outputs": [],
   "source": [
    "# Categorical: fill with \"Unknown\"\n",
    "for c in [\"region_category\", \"preferred_offer_types\", \"feedback\", \"medium_of_operation\"]:\n",
    "    if c in df.columns:\n",
    "        df[c] = df[c].fillna(\"Unknown\").replace({\"\": \"Unknown\"})"
   ]
  },
  {
   "cell_type": "code",
   "execution_count": 26,
   "id": "4aa1bcb1-2e3c-479c-badf-75348e6a22db",
   "metadata": {},
   "outputs": [],
   "source": [
    "# Numeric: fill remaining missing with median (wallet by membership)\n",
    "med_by_mem = df.groupby(\"membership_category\")[\"points_in_wallet\"].transform(\"median\")\n",
    "df[\"points_in_wallet\"] = df[\"points_in_wallet\"].where(df[\"points_in_wallet\"].notna(), med_by_mem)\n",
    "df[\"points_in_wallet\"] = df[\"points_in_wallet\"].fillna(df[\"points_in_wallet\"].median())"
   ]
  },
  {
   "cell_type": "code",
   "execution_count": 27,
   "id": "130e3ca8-799f-4f1b-b58f-2e50c2a4fd6d",
   "metadata": {},
   "outputs": [],
   "source": [
    "# Numeric: fill remaining missing with median \n",
    "num_cols = df.select_dtypes(include=[np.number]).columns.tolist()\n",
    "for c in num_cols:\n",
    "    if df[c].isna().any():\n",
    "        # default: median for robustness\n",
    "        df[c] = df[c].fillna(df[c].median())"
   ]
  },
  {
   "cell_type": "code",
   "execution_count": 28,
   "id": "4bf55968-9a64-4eba-b842-0d15db4e0eb8",
   "metadata": {},
   "outputs": [],
   "source": [
    "# Outlier capping (99th percentile) for key behavior/revenue fields\n",
    "for c in [\"avg_transaction_value\", \"points_in_wallet\", \"avg_time_spent\", \"avg_frequency_login_days\"]:\n",
    "    if c in df.columns:\n",
    "        hi = df[c].quantile(0.99)\n",
    "        lo = 0 if c in [\"points_in_wallet\", \"avg_frequency_login_days\"] else df[c].quantile(0.01)\n",
    "        df[c] = df[c].clip(lower=lo, upper=hi)"
   ]
  },
  {
   "cell_type": "markdown",
   "id": "b19ad75a-5185-4f3f-9f4b-45cb55bfc04c",
   "metadata": {},
   "source": [
    "# 6. Final Quality Check"
   ]
  },
  {
   "cell_type": "code",
   "execution_count": 29,
   "id": "636c2f69-ade7-4757-90df-19c83c2ee49e",
   "metadata": {},
   "outputs": [
    {
     "name": "stdout",
     "output_type": "stream",
     "text": [
      "<class 'pandas.core.frame.DataFrame'>\n",
      "RangeIndex: 36992 entries, 0 to 36991\n",
      "Data columns (total 22 columns):\n",
      " #   Column                        Non-Null Count  Dtype         \n",
      "---  ------                        --------------  -----         \n",
      " 0   age                           36992 non-null  int64         \n",
      " 1   gender                        36992 non-null  object        \n",
      " 2   region_category               36992 non-null  object        \n",
      " 3   membership_category           36992 non-null  object        \n",
      " 4   joining_date                  36992 non-null  datetime64[ns]\n",
      " 5   joined_through_referral       36992 non-null  object        \n",
      " 6   preferred_offer_types         36992 non-null  object        \n",
      " 7   medium_of_operation           36992 non-null  object        \n",
      " 8   internet_option               36992 non-null  object        \n",
      " 9   last_visit_time               36992 non-null  object        \n",
      " 10  days_since_last_login         36992 non-null  int64         \n",
      " 11  avg_time_spent                36992 non-null  float64       \n",
      " 12  avg_transaction_value         36992 non-null  float64       \n",
      " 13  avg_frequency_login_days      36992 non-null  float64       \n",
      " 14  points_in_wallet              36992 non-null  float64       \n",
      " 15  used_special_discount         36992 non-null  object        \n",
      " 16  offer_application_preference  36992 non-null  object        \n",
      " 17  past_complaint                36992 non-null  object        \n",
      " 18  complaint_status              36992 non-null  object        \n",
      " 19  feedback                      36992 non-null  object        \n",
      " 20  churn_risk_score              36992 non-null  int64         \n",
      " 21  joining_date_iso              36992 non-null  object        \n",
      "dtypes: datetime64[ns](1), float64(4), int64(3), object(14)\n",
      "memory usage: 6.2+ MB\n"
     ]
    }
   ],
   "source": [
    "# Dtypes & missing after cleaning\n",
    "df.info()"
   ]
  },
  {
   "cell_type": "code",
   "execution_count": 30,
   "id": "9abb0673-9b41-4c4a-9c74-3cdf347fe2d1",
   "metadata": {},
   "outputs": [
    {
     "data": {
      "text/html": [
       "<div>\n",
       "<style scoped>\n",
       "    .dataframe tbody tr th:only-of-type {\n",
       "        vertical-align: middle;\n",
       "    }\n",
       "\n",
       "    .dataframe tbody tr th {\n",
       "        vertical-align: top;\n",
       "    }\n",
       "\n",
       "    .dataframe thead th {\n",
       "        text-align: right;\n",
       "    }\n",
       "</style>\n",
       "<table border=\"1\" class=\"dataframe\">\n",
       "  <thead>\n",
       "    <tr style=\"text-align: right;\">\n",
       "      <th></th>\n",
       "      <th>missing</th>\n",
       "      <th>missing_%</th>\n",
       "    </tr>\n",
       "  </thead>\n",
       "  <tbody>\n",
       "    <tr>\n",
       "      <th>age</th>\n",
       "      <td>0</td>\n",
       "      <td>0.0</td>\n",
       "    </tr>\n",
       "    <tr>\n",
       "      <th>avg_frequency_login_days</th>\n",
       "      <td>0</td>\n",
       "      <td>0.0</td>\n",
       "    </tr>\n",
       "    <tr>\n",
       "      <th>avg_time_spent</th>\n",
       "      <td>0</td>\n",
       "      <td>0.0</td>\n",
       "    </tr>\n",
       "    <tr>\n",
       "      <th>avg_transaction_value</th>\n",
       "      <td>0</td>\n",
       "      <td>0.0</td>\n",
       "    </tr>\n",
       "    <tr>\n",
       "      <th>churn_risk_score</th>\n",
       "      <td>0</td>\n",
       "      <td>0.0</td>\n",
       "    </tr>\n",
       "    <tr>\n",
       "      <th>complaint_status</th>\n",
       "      <td>0</td>\n",
       "      <td>0.0</td>\n",
       "    </tr>\n",
       "    <tr>\n",
       "      <th>days_since_last_login</th>\n",
       "      <td>0</td>\n",
       "      <td>0.0</td>\n",
       "    </tr>\n",
       "    <tr>\n",
       "      <th>feedback</th>\n",
       "      <td>0</td>\n",
       "      <td>0.0</td>\n",
       "    </tr>\n",
       "    <tr>\n",
       "      <th>gender</th>\n",
       "      <td>0</td>\n",
       "      <td>0.0</td>\n",
       "    </tr>\n",
       "    <tr>\n",
       "      <th>internet_option</th>\n",
       "      <td>0</td>\n",
       "      <td>0.0</td>\n",
       "    </tr>\n",
       "    <tr>\n",
       "      <th>joined_through_referral</th>\n",
       "      <td>0</td>\n",
       "      <td>0.0</td>\n",
       "    </tr>\n",
       "    <tr>\n",
       "      <th>joining_date</th>\n",
       "      <td>0</td>\n",
       "      <td>0.0</td>\n",
       "    </tr>\n",
       "    <tr>\n",
       "      <th>joining_date_iso</th>\n",
       "      <td>0</td>\n",
       "      <td>0.0</td>\n",
       "    </tr>\n",
       "    <tr>\n",
       "      <th>last_visit_time</th>\n",
       "      <td>0</td>\n",
       "      <td>0.0</td>\n",
       "    </tr>\n",
       "    <tr>\n",
       "      <th>medium_of_operation</th>\n",
       "      <td>0</td>\n",
       "      <td>0.0</td>\n",
       "    </tr>\n",
       "  </tbody>\n",
       "</table>\n",
       "</div>"
      ],
      "text/plain": [
       "                          missing  missing_%\n",
       "age                             0        0.0\n",
       "avg_frequency_login_days        0        0.0\n",
       "avg_time_spent                  0        0.0\n",
       "avg_transaction_value           0        0.0\n",
       "churn_risk_score                0        0.0\n",
       "complaint_status                0        0.0\n",
       "days_since_last_login           0        0.0\n",
       "feedback                        0        0.0\n",
       "gender                          0        0.0\n",
       "internet_option                 0        0.0\n",
       "joined_through_referral         0        0.0\n",
       "joining_date                    0        0.0\n",
       "joining_date_iso                0        0.0\n",
       "last_visit_time                 0        0.0\n",
       "medium_of_operation             0        0.0"
      ]
     },
     "execution_count": 30,
     "metadata": {},
     "output_type": "execute_result"
    }
   ],
   "source": [
    "# Remaining missing\n",
    "miss = df.isna().sum().sort_values(ascending=False)\n",
    "pd.DataFrame({\"missing\": miss, \"missing_%\": (df.isna().mean()*100).round(2)}).head(15)"
   ]
  },
  {
   "cell_type": "code",
   "execution_count": 31,
   "id": "233e1e8d-e11f-4d5b-bb90-c4470f0f8d31",
   "metadata": {},
   "outputs": [
    {
     "data": {
      "text/plain": [
       "churn_risk_score\n",
       "1    20012\n",
       "0    16980\n",
       "Name: count, dtype: int64"
      ]
     },
     "execution_count": 31,
     "metadata": {},
     "output_type": "execute_result"
    }
   ],
   "source": [
    "# Target distribution\n",
    "df[\"churn_risk_score\"].value_counts(dropna=False) "
   ]
  },
  {
   "cell_type": "markdown",
   "id": "6da4444d-3f2e-4d9d-86a2-d41ad00dcea7",
   "metadata": {},
   "source": [
    "# 7. Explanatory EDA — 10 Business Questions"
   ]
  },
  {
   "cell_type": "markdown",
   "id": "7dfedf36-7ea9-4e3a-9db2-499d37d305ba",
   "metadata": {},
   "source": [
    "### Q1. Which membership tiers churn more?"
   ]
  },
  {
   "cell_type": "code",
   "execution_count": 32,
   "id": "addbf640-b307-4126-86b3-6db0b9766d46",
   "metadata": {},
   "outputs": [
    {
     "data": {
      "image/png": "[encoded data removed]",
      "text/plain": [
       "<Figure size 640x480 with 1 Axes>"
      ]
     },
     "metadata": {},
     "output_type": "display_data"
    }
   ],
   "source": [
    "ct = pd.crosstab(df[\"membership_category\"], df[\"churn_risk_score\"], normalize=\"index\")\n",
    "ct = ct.rename(columns={0.0:\"No Churn\", 1.0:\"Churn\"}).loc[ct.index]  \n",
    "\n",
    "ax = ct.plot(kind=\"barh\", stacked=True)\n",
    "ax.set_title(\"Churn Share by Membership Tier\")\n",
    "ax.set_xlabel(\"Proportion\")\n",
    "ax.legend(loc=\"lower right\")\n",
    "plt.tight_layout(); plt.show()"
   ]
  },
  {
   "cell_type": "markdown",
   "id": "673710d2-609f-432e-99d2-df4edd101426",
   "metadata": {},
   "source": [
    "### Churn by Membership — Conclusion\n",
    "- **Highest churn:** No Membership, Basic → weak perceived value; target upgrades/onboarding.\n",
    "- **Mid churn:** Silver, Gold → better but still meaningful; reinforce value.\n",
    "- **Lowest churn:** Platinum, Premium → near-zero churn; maintain benefits.\n",
    "- **Action:** Prioritize retention offers for entry tiers; protect premium experience."
   ]
  },
  {
   "cell_type": "markdown",
   "id": "99069685-e2f0-4813-afcd-acd129c41209",
   "metadata": {},
   "source": [
    "### Q2. Do churn rates differ by gender, and how is each churn group composed by gender?"
   ]
  },
  {
   "cell_type": "code",
   "execution_count": 33,
   "id": "010ff9d4-1e93-47db-9073-632dfe4e44d1",
   "metadata": {},
   "outputs": [
    {
     "data": {
      "image/png": "[encoded data removed]",
      "text/plain": [
       "<Figure size 600x600 with 1 Axes>"
      ]
     },
     "metadata": {},
     "output_type": "display_data"
    }
   ],
   "source": [
    "# Simple nested donut: outer = churn share, inner = gender split within each churn group\n",
    "# Prep labels\n",
    "df[\"ChurnLabel\"] = df[\"churn_risk_score\"].map({0:\"No\", 1:\"Yes\"})\n",
    "df[\"Gender2\"] = df[\"gender\"].fillna(\"Unknown\").map({\"M\":\"M\",\"F\":\"F\"}).fillna(\"Unknown\")\n",
    "\n",
    "# Data\n",
    "outer = df[\"ChurnLabel\"].value_counts().reindex([\"No\",\"Yes\"])\n",
    "inner_tbl = pd.crosstab(df[\"ChurnLabel\"], df[\"Gender2\"]).reindex(index=[\"No\",\"Yes\"], columns=[\"M\",\"F\"]).fillna(0)\n",
    "inner = inner_tbl.to_numpy().ravel()  # [No-M, No-F, Yes-M, Yes-F]\n",
    "\n",
    "# Plot\n",
    "fig, ax = plt.subplots(figsize=(6,6))\n",
    "ax.pie(outer, labels=[f\"Churn:{k}\\n{v/outer.sum():.1%}\" for k,v in outer.items()],\n",
    "       radius=1.0, wedgeprops=dict(width=0.28, edgecolor=\"white\"), startangle=90)\n",
    "ax.pie(inner, labels=[\"No-M\",\"No-F\",\"Yes-M\",\"Yes-F\"],\n",
    "       radius=0.72, wedgeprops=dict(width=0.28, edgecolor=\"white\"), startangle=90)\n",
    "ax.add_artist(plt.Circle((0,0), 0.44, color=\"white\"))\n",
    "ax.set_title(\"Churn (outer) & Gender (inner)\")\n",
    "plt.tight_layout(); plt.show()"
   ]
  },
  {
   "cell_type": "code",
   "execution_count": 34,
   "id": "175f2738-1475-414b-8aa5-0bc718bb4223",
   "metadata": {},
   "outputs": [],
   "source": [
    "df = df.drop('Gender2', axis=1)"
   ]
  },
  {
   "cell_type": "markdown",
   "id": "0448101f-21ae-4ea4-96dd-c96d78ef2eac",
   "metadata": {},
   "source": [
    "### Gender vs Churn — Conclusion  \n",
    "- Both **male and female customers churn significantly**, with no major gender gap.  \n",
    "- Gender alone does **not appear to be a strong differentiator of churn**.  \n",
    "\n",
    "**Recommendation:**  \n",
    "Focus churn analysis on **behavioral features** (usage frequency, spending, complaints) rather than gender. Gender can still be used for **marketing segmentation**, but not as a primary churn predictor."
   ]
  },
  {
   "cell_type": "markdown",
   "id": "60e978de-e13d-4460-9935-afa553877ee3",
   "metadata": {},
   "source": [
    "### Q3. Do customers with higher average transaction value churn more frequently?"
   ]
  },
  {
   "cell_type": "code",
   "execution_count": 35,
   "id": "2a102d8b-b17d-4356-b304-5b4a4306b2d0",
   "metadata": {},
   "outputs": [
    {
     "data": {
      "image/png": "[encoded data removed]",
      "text/plain": [
       "<Figure size 640x480 with 1 Axes>"
      ]
     },
     "metadata": {},
     "output_type": "display_data"
    }
   ],
   "source": [
    "sns.kdeplot(\n",
    "    data=df.assign(ChurnLabel=df[\"churn_risk_score\"].map({0:\"Not Churn\", 1:\"Churn\"})),\n",
    "    x=\"avg_transaction_value\", hue=\"ChurnLabel\", fill=True, common_norm=False, alpha=0.4\n",
    ")\n",
    "plt.legend(title=\"Churn\", labels=[\"Not Churn\", \"Churn\"])\n",
    "plt.show()"
   ]
  },
  {
   "cell_type": "markdown",
   "id": "27ca1793-0714-4633-97f3-73eaed81130b",
   "metadata": {},
   "source": [
    "### Avg Transaction Value vs Churn — Conclusion\n",
    "- Customers with **lower avg transaction values (0–40K)** are more often **not churn** → low spenders are more stable.  \n",
    "- Customers with **higher transaction values (60K–100K)** show higher **churn density** → big spenders are more at risk.  \n",
    "- Suggests **price sensitivity**: heavy spenders may churn if they feel costs outweigh benefits.  \n",
    "\n",
    "**Recommendation:**  \n",
    "Target high-transaction-value customers with **loyalty rewards, premium service, or discounts** to reduce churn.  "
   ]
  },
  {
   "cell_type": "markdown",
   "id": "10e5d132-992c-44d2-933e-8cbf61fcda3c",
   "metadata": {},
   "source": [
    "### Q4. Do customers with higher wallet balances churn less?"
   ]
  },
  {
   "cell_type": "code",
   "execution_count": 36,
   "id": "e6fed2a1-f82b-4a28-9c3a-da0ab9db7c55",
   "metadata": {},
   "outputs": [
    {
     "data": {
      "image/png": "[encoded data removed]",
      "text/plain": [
       "<Figure size 700x500 with 1 Axes>"
      ]
     },
     "metadata": {},
     "output_type": "display_data"
    }
   ],
   "source": [
    "df[\"ChurnLabel\"] = df[\"churn_risk_score\"].map({0:\"No\", 1:\"Yes\"})\n",
    "df[\"points_in_wallet\"] = pd.to_numeric(df[\"points_in_wallet\"], errors=\"coerce\")\n",
    "\n",
    "plt.figure(figsize=(7,5))\n",
    "sns.boxplot(data=df, x=\"ChurnLabel\", y=\"points_in_wallet\")\n",
    "plt.xlabel(\"Churn\"); plt.ylabel(\"Wallet Balance (points)\")\n",
    "plt.title(\"Wallet Balance by Churn\")\n",
    "plt.show()"
   ]
  },
  {
   "cell_type": "markdown",
   "id": "8595f7a1-1e57-4c4a-b027-876b91e3caee",
   "metadata": {},
   "source": [
    "### Box Plot Interpretation: Wallet Balance by Churn  \n",
    "\n",
    "**Median Balance**  \n",
    "- Non-churned customers (No) have a higher median wallet balance (~750).  \n",
    "- Churned customers (Yes) have a lower median (~620).  \n",
    "=> Suggests customers with more wallet balance are less likely to churn.  \n",
    "\n",
    "**Spread (IQR – interquartile range)**  \n",
    "- Non-churn group has a tighter spread (most balances between ~600–800).  \n",
    "- Churn group shows a wider spread, meaning more variation in balances.  \n",
    "\n",
    "**Outliers**  \n",
    "- Both groups have extreme values (very low and very high balances).  \n",
    "- Churned customers show more low-balance cases.  \n",
    "\n",
    "**Overall Trend**  \n",
    "- Higher wallet balances are linked to lower churn.  \n",
    "- Customers with low wallet balances appear more at risk of churn.  "
   ]
  },
  {
   "cell_type": "markdown",
   "id": "1dca5fec-c03d-4b17-b72f-87a3345cb63d",
   "metadata": {},
   "source": [
    "### Q5. Is there a churn difference between customers with zero vs. non-zero wallet points?"
   ]
  },
  {
   "cell_type": "code",
   "execution_count": 37,
   "id": "73ad2e33-f14b-47a6-bf75-0ce6ff8ba38c",
   "metadata": {},
   "outputs": [
    {
     "name": "stdout",
     "output_type": "stream",
     "text": [
      "Churn rate (%):\n",
      " points_in_wallet\n",
      "Non-zero    54.02\n",
      "Zero        54.85\n",
      "Name: churn_risk_score, dtype: float64\n"
     ]
    },
    {
     "data": {
      "image/png": "[encoded data removed]",
      "text/plain": [
       "<Figure size 640x480 with 1 Axes>"
      ]
     },
     "metadata": {},
     "output_type": "display_data"
    }
   ],
   "source": [
    "# make numeric (safeguard) and build flag\n",
    "pts = pd.to_numeric(df[\"points_in_wallet\"], errors=\"coerce\").fillna(0)\n",
    "flag = (pts <= 0).map({True: \"Zero\", False: \"Non-zero\"})\n",
    "\n",
    "rate = df.groupby(flag)[\"churn_risk_score\"].mean().mul(100).round(2)\n",
    "print(\"Churn rate (%):\\n\", rate)\n",
    "\n",
    "ax = rate.plot(kind=\"bar\", title=\"Churn: Zero vs Non-zero Wallet Points\")\n",
    "ax.set_ylabel(\"Churn Rate (%)\"); ax.set_xlabel(\"Wallet Points\")\n",
    "plt.xticks(rotation=0); plt.tight_layout(); plt.show()"
   ]
  },
  {
   "cell_type": "markdown",
   "id": "b1a344f0-5224-40f0-b117-de0f849e72c1",
   "metadata": {},
   "source": [
    "### Zero vs Non-zero Wallet Points — Conclusion\n",
    "- Churn is ~54–55% for both groups (difference < 1%).\n",
    "- Simply having wallet points does **not** meaningfully reduce churn.\n",
    "- Focus retention on other drivers (usage, tier, offers)."
   ]
  },
  {
   "cell_type": "markdown",
   "id": "346b9429-b1ae-492a-85ec-1fbe0f93e6d2",
   "metadata": {},
   "source": [
    "### Q6.  Does higher login frequency correlate with lower churn risk?"
   ]
  },
  {
   "cell_type": "code",
   "execution_count": 38,
   "id": "85a06775-ce90-4bfc-be36-53d4e96f9d94",
   "metadata": {},
   "outputs": [],
   "source": [
    "# Build the feature as a Series (no mutation of df)\n",
    "days = pd.to_numeric(df[\"avg_frequency_login_days\"], errors=\"coerce\")\n",
    "login_freq_per_week = (7 / days.replace(0, np.nan)).clip(lower=0)"
   ]
  },
  {
   "cell_type": "code",
   "execution_count": 39,
   "id": "25746881-5af3-4eda-b363-d4129d3a4221",
   "metadata": {},
   "outputs": [],
   "source": [
    "df_freq = pd.DataFrame({\n",
    "    \"login_freq_per_week\": login_freq_per_week,\n",
    "    \"churn_risk_score\": df[\"churn_risk_score\"].astype(int)\n",
    "}, index=df.index)"
   ]
  },
  {
   "cell_type": "code",
   "execution_count": 40,
   "id": "8f249ad5-04a1-40d5-8e0c-62b79989d6a9",
   "metadata": {},
   "outputs": [
    {
     "name": "stdout",
     "output_type": "stream",
     "text": [
      "Spearman corr = -0.151  (negative ⇒ higher frequency, lower churn)\n"
     ]
    }
   ],
   "source": [
    "# Monotonic relationship (Spearman)\n",
    "corr = df_freq[[\"login_freq_per_week\", \"churn_risk_score\"]].corr(method=\"spearman\").iloc[0, 1]\n",
    "print(f\"Spearman corr = {corr:.3f}  (negative ⇒ higher frequency, lower churn)\")"
   ]
  },
  {
   "cell_type": "code",
   "execution_count": 41,
   "id": "798597cf-a29a-45c0-86c9-db107ff64469",
   "metadata": {
    "scrolled": true
   },
   "outputs": [
    {
     "name": "stdout",
     "output_type": "stream",
     "text": [
      "\n",
      "Login frequency quintile ranges (logins/week):\n",
      "- Q1(low): 0.169 → 0.292  (n=7347, 22.4% of users)\n",
      "- Q2: 0.292 → 0.389  (n=6995, 21.3% of users)\n",
      "- Q3: 0.389 → 0.500  (n=5355, 16.3% of users)\n",
      "- Q4: 0.500 → 0.778  (n=6623, 20.2% of users)\n",
      "- Q5(high): 0.778 → 760.200  (n=6467, 19.7% of users)\n"
     ]
    }
   ],
   "source": [
    "# Quintile ranges (≈20% each)\n",
    "freq = df_freq[\"login_freq_per_week\"].dropna()\n",
    "bins_intervals = pd.qcut(freq, 5, duplicates=\"drop\")            # intervals (for edges)\n",
    "intervals = bins_intervals.cat.categories\n",
    "counts    = bins_intervals.value_counts(sort=False)\n",
    "\n",
    "print(\"\\nLogin frequency quintile ranges (logins/week):\")\n",
    "labels = [\"Q1(low)\", \"Q2\", \"Q3\", \"Q4\", \"Q5(high)\"]\n",
    "for lbl, iv, n in zip(labels, intervals, counts):\n",
    "    print(f\"- {lbl}: {iv.left:.3f} → {iv.right:.3f}  (n={n}, {n/len(freq):.1%} of users)\")"
   ]
  },
  {
   "cell_type": "code",
   "execution_count": 42,
   "id": "048ceaf4-84af-4e4c-abc0-086d8504ba1c",
   "metadata": {},
   "outputs": [
    {
     "name": "stdout",
     "output_type": "stream",
     "text": [
      "\n",
      "Churn rate by login-frequency bucket (%):\n",
      " freq_bin\n",
      "Q1(low)     63.5\n",
      "Q2          59.1\n",
      "Q3          51.4\n",
      "Q4          51.3\n",
      "Q5(high)    43.1\n",
      "Name: churn_risk_score, dtype: float64\n"
     ]
    },
    {
     "name": "stderr",
     "output_type": "stream",
     "text": [
      "/var/folders/6x/h489kd6s4lxbdnxrhw8mvt140000gn/T/ipykernel_42193/1313401476.py:4: FutureWarning: The default of observed=False is deprecated and will be changed to True in a future version of pandas. Pass observed=False to retain current behavior or observed=True to adopt the future default and silence this warning.\n",
      "  rate = tmp.groupby(\"freq_bin\")[\"churn_risk_score\"].mean().mul(100).round(1)\n"
     ]
    },
    {
     "data": {
      "image/png": "[encoded data removed]",
      "text/plain": [
       "<Figure size 640x480 with 1 Axes>"
      ]
     },
     "metadata": {},
     "output_type": "display_data"
    }
   ],
   "source": [
    "# Churn rate by quintile\n",
    "bins = pd.qcut(freq, 5, labels=labels, duplicates=\"drop\")\n",
    "tmp  = df_freq.loc[freq.index].assign(freq_bin=bins)\n",
    "rate = tmp.groupby(\"freq_bin\")[\"churn_risk_score\"].mean().mul(100).round(1)\n",
    "\n",
    "print(\"\\nChurn rate by login-frequency bucket (%):\\n\", rate)\n",
    "\n",
    "ax = rate.plot(kind=\"bar\", title=\"Churn Rate by Login Frequency\")\n",
    "ax.set_ylabel(\"Churn Rate (%)\"); ax.set_xlabel(\"Login Frequency\")\n",
    "plt.xticks(rotation=0); plt.tight_layout(); plt.show()"
   ]
  },
  {
   "cell_type": "markdown",
   "id": "e076e8d2-740c-475a-8e8a-8a92b49f3ce0",
   "metadata": {},
   "source": [
    "### Login Frequency vs Churn — Conclusion\n",
    "\n",
    "- **Correlation**:  \n",
    "  The Spearman correlation is **-0.151**, showing a **negative relationship** between login frequency and churn risk.  \n",
    "  → Customers who log in more frequently are slightly less likely to churn.  \n",
    "\n",
    "- **Churn by Frequency Buckets**:  \n",
    "  - **Q1 (lowest frequency)** → Churn rate ~63.5% (highest risk).  \n",
    "  - **Q5 (highest frequency)** → Churn rate ~43.1% (lowest risk).  \n",
    "  - Churn rate steadily declines from **low-frequency to high-frequency users**.  \n",
    "\n",
    "- **Overall Insight**:  \n",
    "  Customers who log in more often tend to stay engaged and are **less likely to churn**, while infrequent logins are a strong indicator of churn risk.  \n",
    "\n",
    "Encouraging **more frequent customer logins** (e.g., engagement campaigns, gamification, or reminders) could help reduce churn."
   ]
  },
  {
   "cell_type": "markdown",
   "id": "b8b23514-cba8-47dd-a81f-974ee22341c2",
   "metadata": {},
   "source": [
    "### Q7. Which preferred offer type is best for customer satisfaction?"
   ]
  },
  {
   "cell_type": "code",
   "execution_count": 43,
   "id": "459fe4be-eb94-4ddb-b672-5ad25e21ed50",
   "metadata": {},
   "outputs": [
    {
     "data": {
      "image/png": "[encoded data removed]",
      "text/plain": [
       "<Figure size 700x400 with 1 Axes>"
      ]
     },
     "metadata": {},
     "output_type": "display_data"
    }
   ],
   "source": [
    "# Simple, cleaner chart with labels\n",
    "ret = (1 - df.groupby(\"preferred_offer_types\")[\"churn_risk_score\"].mean())*100\n",
    "ret = ret.round(2).sort_values(ascending=False)\n",
    "\n",
    "plt.figure(figsize=(7,4))\n",
    "bars = plt.bar(ret.index, ret.values)\n",
    "plt.title(\"Retention by Preferred Offer Type\")\n",
    "plt.ylabel(\"Retention (%)\"); \n",
    "plt.xlabel(\"Preferred Offer Type\")\n",
    "plt.ylim(0, 100); \n",
    "plt.grid(axis=\"y\", ls=\"--\", alpha=0.3)\n",
    "\n",
    "# add value labels\n",
    "for b in bars:\n",
    "    plt.text(b.get_x()+b.get_width()/2, b.get_height()+1, f\"{b.get_height():.1f}%\",\n",
    "             ha=\"center\", va=\"bottom\", fontsize=9)\n",
    "\n",
    "plt.xticks(rotation=15, ha=\"right\")\n",
    "plt.tight_layout(); \n",
    "plt.show()"
   ]
  },
  {
   "cell_type": "markdown",
   "id": "47b47c0c-ce6f-49db-866c-2e198ff14708",
   "metadata": {},
   "source": [
    "### Preferred Offer Type vs Churn - Conclusion\n",
    "- The gap is **modest (~5 pp)** from best (Vouchers) to lowest (No offers).\n",
    "- This may be **statistically small** and **operationally marginal**."
   ]
  },
  {
   "cell_type": "markdown",
   "id": "6a00294f-166c-4119-b2fc-fa235a730612",
   "metadata": {},
   "source": [
    "### Q8. Do customers with past complaints churn more?"
   ]
  },
  {
   "cell_type": "code",
   "execution_count": 44,
   "id": "65ed31e0-6521-4940-bceb-764f86e1ce03",
   "metadata": {},
   "outputs": [
    {
     "data": {
      "image/png": "[encoded data removed]",
      "text/plain": [
       "<Figure size 700x500 with 1 Axes>"
      ]
     },
     "metadata": {},
     "output_type": "display_data"
    }
   ],
   "source": [
    "ct_counts = pd.crosstab(df[\"churn_risk_score\"], df[\"past_complaint\"])  # counts per churn group\n",
    "ax = ct_counts.plot(kind=\"bar\", stacked=True, figsize=(7,5))\n",
    "\n",
    "ax.set_title(\"Churn distribution w.r.t. Past Complaint\")\n",
    "ax.set_xlabel(\"Churn\")\n",
    "ax.set_ylabel(\"count\")\n",
    "ax.legend(title=\"Past Complaint\")\n",
    "plt.tight_layout()\n",
    "plt.show()"
   ]
  },
  {
   "cell_type": "code",
   "execution_count": 45,
   "id": "bc221e56-d38d-46de-917e-913b28fad44f",
   "metadata": {},
   "outputs": [
    {
     "data": {
      "image/png": "[encoded data removed]",
      "text/plain": [
       "<Figure size 700x500 with 1 Axes>"
      ]
     },
     "metadata": {},
     "output_type": "display_data"
    }
   ],
   "source": [
    "# proportions per churn group\n",
    "ct = pd.crosstab(df[\"churn_risk_score\"], df[\"past_complaint\"], normalize=\"index\")  # rows sum to 1.0\n",
    "\n",
    "ax = ct.plot(kind=\"bar\", stacked=True, figsize=(7,5))\n",
    "ax.set_title(\"Churn distribution w.r.t. Past Complaint\")\n",
    "ax.set_xlabel(\"Churn\")\n",
    "ax.set_ylabel(\"Percent\")\n",
    "ax.yaxis.set_major_formatter(PercentFormatter(1.0))  # 0–1 → %\n",
    "\n",
    "# add % labels on each stacked segment\n",
    "for p in ax.patches:\n",
    "    width, height = p.get_width(), p.get_height()\n",
    "    if height > 0:\n",
    "        x = p.get_x() + width/2\n",
    "        y = p.get_y() + height/2\n",
    "        ax.text(x, y, f\"{height*100:.1f}%\", ha=\"center\", va=\"center\", fontsize=10, color=\"white\")\n",
    "\n",
    "ax.legend(title=\"Past Complaint\")\n",
    "plt.tight_layout()\n",
    "plt.show()"
   ]
  },
  {
   "cell_type": "markdown",
   "id": "2b0f34a1-82fa-4b57-864d-0bfea15ba1ec",
   "metadata": {},
   "source": [
    "### Past Complaints → Churn (Conclusion)\n",
    "- Churn shares are ~50/50 for both groups → **past complaints alone don’t drive churn**.\n",
    "- Likely explanation: **post-complaint support is effective**, neutralizing risk.\n",
    "\n",
    "**Recommendation:** Maintain/scale the current service-recovery playbook (fast SLA, follow-ups). Use complaints as a **trigger** to offer loyalty perks or onboarding tips, but prioritize other risk signals (low usage, entry tiers, non-referral) for retention targeting."
   ]
  },
  {
   "cell_type": "markdown",
   "id": "2c377cb1-4cec-4709-bcbb-a9ded29f7044",
   "metadata": {},
   "source": [
    "### Q9. (Optional) Which features (customer behaviors) have most impacts churn vs not-churn? (RandomForest + SHAP value)"
   ]
  },
  {
   "cell_type": "code",
   "execution_count": 46,
   "id": "19ba1ef3-2793-4548-ab94-907331f7551b",
   "metadata": {},
   "outputs": [],
   "source": [
    "# y\n",
    "y = df[\"churn_risk_score\"].astype(int)"
   ]
  },
  {
   "cell_type": "code",
   "execution_count": 47,
   "id": "e42ab33d-903c-4e30-b929-d2b80df42f50",
   "metadata": {},
   "outputs": [],
   "source": [
    "# Split features into numeric vs categorical\n",
    "cat_cols = ['gender', 'region_category', 'membership_category', 'joined_through_referral', 'preferred_offer_types',\n",
    "            'medium_of_operation', 'internet_option', 'used_special_discount', 'offer_application_preference',\n",
    "            'past_complaint', 'complaint_status', 'feedback']\n",
    "num_cols = ['age', 'avg_frequency_login_days', 'avg_time_spent', 'avg_transaction_value', \n",
    "             'days_since_last_login', 'joining_date', 'points_in_wallet']\n",
    "datetime_cols = [\"joining_date\"]"
   ]
  },
  {
   "cell_type": "code",
   "execution_count": 48,
   "id": "67faba15-29c0-4692-ad4c-9a6da25ab572",
   "metadata": {},
   "outputs": [],
   "source": [
    "X_num = df[num_cols].apply(pd.to_numeric, errors=\"coerce\")"
   ]
  },
  {
   "cell_type": "code",
   "execution_count": 49,
   "id": "c2899d78-556c-4af7-9661-9981aca1d603",
   "metadata": {},
   "outputs": [],
   "source": [
    "X_cat = pd.get_dummies(df[cat_cols], drop_first=True)"
   ]
  },
  {
   "cell_type": "code",
   "execution_count": 50,
   "id": "70f6b0d2-fdcd-416a-8324-05a2b405e89c",
   "metadata": {},
   "outputs": [],
   "source": [
    "# Set the time when I experience this code is now, you can consider it as a milestone in a real project\n",
    "now = pd.to_datetime(\"20-09-2025\", format=\"%d-%m-%Y\")"
   ]
  },
  {
   "cell_type": "code",
   "execution_count": 51,
   "id": "db33978c-0b85-47b6-a8fc-f45e8c54bafe",
   "metadata": {},
   "outputs": [
    {
     "name": "stderr",
     "output_type": "stream",
     "text": [
      "/var/folders/6x/h489kd6s4lxbdnxrhw8mvt140000gn/T/ipykernel_42193/2812573019.py:3: UserWarning: The argument 'infer_datetime_format' is deprecated and will be removed in a future version. A strict version of it is now the default, see https://pandas.pydata.org/pdeps/0004-consistent-to-datetime-parsing.html. You can safely remove this argument.\n",
      "  (now - pd.to_datetime(df[c], errors=\"coerce\", infer_datetime_format=True))\n"
     ]
    }
   ],
   "source": [
    "X_dt = pd.DataFrame({\n",
    "    f\"{c}_age_days\": (\n",
    "        (now - pd.to_datetime(df[c], errors=\"coerce\", infer_datetime_format=True))\n",
    "        .dt.total_seconds() / 86400\n",
    "    ).clip(lower=0)\n",
    "    for c in datetime_cols\n",
    "})"
   ]
  },
  {
   "cell_type": "code",
   "execution_count": 52,
   "id": "aa106e78-9d12-43ac-91a1-9be719ffd912",
   "metadata": {},
   "outputs": [],
   "source": [
    "X = pd.concat([X_num, X_cat, X_dt], axis=1).fillna(0)"
   ]
  },
  {
   "cell_type": "code",
   "execution_count": 53,
   "id": "7b5c0cf0-e059-413d-8319-806adb51fd3e",
   "metadata": {},
   "outputs": [],
   "source": [
    "Xtr, Xte, ytr, yte = train_test_split(X, y, test_size=0.2, stratify=y, random_state=42)"
   ]
  },
  {
   "cell_type": "code",
   "execution_count": 66,
   "id": "b1e016de-7a95-4655-abfa-07a9c223e608",
   "metadata": {},
   "outputs": [],
   "source": [
    "# --- make sure Xtr, Xte are numeric ---\n",
    "Xtr_num = (Xtr.apply(pd.to_numeric, errors=\"coerce\")\n",
    "             .fillna(0)\n",
    "             .astype(\"float64\"))\n",
    "\n",
    "Xte_num = (Xte.reindex(columns=Xtr_num.columns)   # keep same column order\n",
    "             .apply(pd.to_numeric, errors=\"coerce\")\n",
    "             .fillna(0)\n",
    "             .astype(\"float64\"))\n",
    "\n",
    "assert list(Xtr_num.columns) == list(Xte_num.columns)"
   ]
  },
  {
   "cell_type": "code",
   "execution_count": 67,
   "id": "8b923e99-14b1-499e-8f2a-3e74f7bd07a5",
   "metadata": {
    "scrolled": true
   },
   "outputs": [
    {
     "data": {
      "text/html": [
       "<style>#sk-container-id-2 {\n",
       "  /* Definition of color scheme common for light and dark mode */\n",
       "  --sklearn-color-text: black;\n",
       "  --sklearn-color-line: gray;\n",
       "  /* Definition of color scheme for unfitted estimators */\n",
       "  --sklearn-color-unfitted-level-0: #fff5e6;\n",
       "  --sklearn-color-unfitted-level-1: #f6e4d2;\n",
       "  --sklearn-color-unfitted-level-2: #ffe0b3;\n",
       "  --sklearn-color-unfitted-level-3: chocolate;\n",
       "  /* Definition of color scheme for fitted estimators */\n",
       "  --sklearn-color-fitted-level-0: #f0f8ff;\n",
       "  --sklearn-color-fitted-level-1: #d4ebff;\n",
       "  --sklearn-color-fitted-level-2: #b3dbfd;\n",
       "  --sklearn-color-fitted-level-3: cornflowerblue;\n",
       "\n",
       "  /* Specific color for light theme */\n",
       "  --sklearn-color-text-on-default-background: var(--sg-text-color, var(--theme-code-foreground, var(--jp-content-font-color1, black)));\n",
       "  --sklearn-color-background: var(--sg-background-color, var(--theme-background, var(--jp-layout-color0, white)));\n",
       "  --sklearn-color-border-box: var(--sg-text-color, var(--theme-code-foreground, var(--jp-content-font-color1, black)));\n",
       "  --sklearn-color-icon: #696969;\n",
       "\n",
       "  @media (prefers-color-scheme: dark) {\n",
       "    /* Redefinition of color scheme for dark theme */\n",
       "    --sklearn-color-text-on-default-background: var(--sg-text-color, var(--theme-code-foreground, var(--jp-content-font-color1, white)));\n",
       "    --sklearn-color-background: var(--sg-background-color, var(--theme-background, var(--jp-layout-color0, #111)));\n",
       "    --sklearn-color-border-box: var(--sg-text-color, var(--theme-code-foreground, var(--jp-content-font-color1, white)));\n",
       "    --sklearn-color-icon: #878787;\n",
       "  }\n",
       "}\n",
       "\n",
       "#sk-container-id-2 {\n",
       "  color: var(--sklearn-color-text);\n",
       "}\n",
       "\n",
       "#sk-container-id-2 pre {\n",
       "  padding: 0;\n",
       "}\n",
       "\n",
       "#sk-container-id-2 input.sk-hidden--visually {\n",
       "  border: 0;\n",
       "  clip: rect(1px 1px 1px 1px);\n",
       "  clip: rect(1px, 1px, 1px, 1px);\n",
       "  height: 1px;\n",
       "  margin: -1px;\n",
       "  overflow: hidden;\n",
       "  padding: 0;\n",
       "  position: absolute;\n",
       "  width: 1px;\n",
       "}\n",
       "\n",
       "#sk-container-id-2 div.sk-dashed-wrapped {\n",
       "  border: 1px dashed var(--sklearn-color-line);\n",
       "  margin: 0 0.4em 0.5em 0.4em;\n",
       "  box-sizing: border-box;\n",
       "  padding-bottom: 0.4em;\n",
       "  background-color: var(--sklearn-color-background);\n",
       "}\n",
       "\n",
       "#sk-container-id-2 div.sk-container {\n",
       "  /* jupyter's `normalize.less` sets `[hidden] { display: none; }`\n",
       "     but bootstrap.min.css set `[hidden] { display: none !important; }`\n",
       "     so we also need the `!important` here to be able to override the\n",
       "     default hidden behavior on the sphinx rendered scikit-learn.org.\n",
       "     See: https://github.com/scikit-learn/scikit-learn/issues/21755 */\n",
       "  display: inline-block !important;\n",
       "  position: relative;\n",
       "}\n",
       "\n",
       "#sk-container-id-2 div.sk-text-repr-fallback {\n",
       "  display: none;\n",
       "}\n",
       "\n",
       "div.sk-parallel-item,\n",
       "div.sk-serial,\n",
       "div.sk-item {\n",
       "  /* draw centered vertical line to link estimators */\n",
       "  background-image: linear-gradient(var(--sklearn-color-text-on-default-background), var(--sklearn-color-text-on-default-background));\n",
       "  background-size: 2px 100%;\n",
       "  background-repeat: no-repeat;\n",
       "  background-position: center center;\n",
       "}\n",
       "\n",
       "/* Parallel-specific style estimator block */\n",
       "\n",
       "#sk-container-id-2 div.sk-parallel-item::after {\n",
       "  content: \"\";\n",
       "  width: 100%;\n",
       "  border-bottom: 2px solid var(--sklearn-color-text-on-default-background);\n",
       "  flex-grow: 1;\n",
       "}\n",
       "\n",
       "#sk-container-id-2 div.sk-parallel {\n",
       "  display: flex;\n",
       "  align-items: stretch;\n",
       "  justify-content: center;\n",
       "  background-color: var(--sklearn-color-background);\n",
       "  position: relative;\n",
       "}\n",
       "\n",
       "#sk-container-id-2 div.sk-parallel-item {\n",
       "  display: flex;\n",
       "  flex-direction: column;\n",
       "}\n",
       "\n",
       "#sk-container-id-2 div.sk-parallel-item:first-child::after {\n",
       "  align-self: flex-end;\n",
       "  width: 50%;\n",
       "}\n",
       "\n",
       "#sk-container-id-2 div.sk-parallel-item:last-child::after {\n",
       "  align-self: flex-start;\n",
       "  width: 50%;\n",
       "}\n",
       "\n",
       "#sk-container-id-2 div.sk-parallel-item:only-child::after {\n",
       "  width: 0;\n",
       "}\n",
       "\n",
       "/* Serial-specific style estimator block */\n",
       "\n",
       "#sk-container-id-2 div.sk-serial {\n",
       "  display: flex;\n",
       "  flex-direction: column;\n",
       "  align-items: center;\n",
       "  background-color: var(--sklearn-color-background);\n",
       "  padding-right: 1em;\n",
       "  padding-left: 1em;\n",
       "}\n",
       "\n",
       "\n",
       "/* Toggleable style: style used for estimator/Pipeline/ColumnTransformer box that is\n",
       "clickable and can be expanded/collapsed.\n",
       "- Pipeline and ColumnTransformer use this feature and define the default style\n",
       "- Estimators will overwrite some part of the style using the `sk-estimator` class\n",
       "*/\n",
       "\n",
       "/* Pipeline and ColumnTransformer style (default) */\n",
       "\n",
       "#sk-container-id-2 div.sk-toggleable {\n",
       "  /* Default theme specific background. It is overwritten whether we have a\n",
       "  specific estimator or a Pipeline/ColumnTransformer */\n",
       "  background-color: var(--sklearn-color-background);\n",
       "}\n",
       "\n",
       "/* Toggleable label */\n",
       "#sk-container-id-2 label.sk-toggleable__label {\n",
       "  cursor: pointer;\n",
       "  display: block;\n",
       "  width: 100%;\n",
       "  margin-bottom: 0;\n",
       "  padding: 0.5em;\n",
       "  box-sizing: border-box;\n",
       "  text-align: center;\n",
       "}\n",
       "\n",
       "#sk-container-id-2 label.sk-toggleable__label-arrow:before {\n",
       "  /* Arrow on the left of the label */\n",
       "  content: \"▸\";\n",
       "  float: left;\n",
       "  margin-right: 0.25em;\n",
       "  color: var(--sklearn-color-icon);\n",
       "}\n",
       "\n",
       "#sk-container-id-2 label.sk-toggleable__label-arrow:hover:before {\n",
       "  color: var(--sklearn-color-text);\n",
       "}\n",
       "\n",
       "/* Toggleable content - dropdown */\n",
       "\n",
       "#sk-container-id-2 div.sk-toggleable__content {\n",
       "  max-height: 0;\n",
       "  max-width: 0;\n",
       "  overflow: hidden;\n",
       "  text-align: left;\n",
       "  /* unfitted */\n",
       "  background-color: var(--sklearn-color-unfitted-level-0);\n",
       "}\n",
       "\n",
       "#sk-container-id-2 div.sk-toggleable__content.fitted {\n",
       "  /* fitted */\n",
       "  background-color: var(--sklearn-color-fitted-level-0);\n",
       "}\n",
       "\n",
       "#sk-container-id-2 div.sk-toggleable__content pre {\n",
       "  margin: 0.2em;\n",
       "  border-radius: 0.25em;\n",
       "  color: var(--sklearn-color-text);\n",
       "  /* unfitted */\n",
       "  background-color: var(--sklearn-color-unfitted-level-0);\n",
       "}\n",
       "\n",
       "#sk-container-id-2 div.sk-toggleable__content.fitted pre {\n",
       "  /* unfitted */\n",
       "  background-color: var(--sklearn-color-fitted-level-0);\n",
       "}\n",
       "\n",
       "#sk-container-id-2 input.sk-toggleable__control:checked~div.sk-toggleable__content {\n",
       "  /* Expand drop-down */\n",
       "  max-height: 200px;\n",
       "  max-width: 100%;\n",
       "  overflow: auto;\n",
       "}\n",
       "\n",
       "#sk-container-id-2 input.sk-toggleable__control:checked~label.sk-toggleable__label-arrow:before {\n",
       "  content: \"▾\";\n",
       "}\n",
       "\n",
       "/* Pipeline/ColumnTransformer-specific style */\n",
       "\n",
       "#sk-container-id-2 div.sk-label input.sk-toggleable__control:checked~label.sk-toggleable__label {\n",
       "  color: var(--sklearn-color-text);\n",
       "  background-color: var(--sklearn-color-unfitted-level-2);\n",
       "}\n",
       "\n",
       "#sk-container-id-2 div.sk-label.fitted input.sk-toggleable__control:checked~label.sk-toggleable__label {\n",
       "  background-color: var(--sklearn-color-fitted-level-2);\n",
       "}\n",
       "\n",
       "/* Estimator-specific style */\n",
       "\n",
       "/* Colorize estimator box */\n",
       "#sk-container-id-2 div.sk-estimator input.sk-toggleable__control:checked~label.sk-toggleable__label {\n",
       "  /* unfitted */\n",
       "  background-color: var(--sklearn-color-unfitted-level-2);\n",
       "}\n",
       "\n",
       "#sk-container-id-2 div.sk-estimator.fitted input.sk-toggleable__control:checked~label.sk-toggleable__label {\n",
       "  /* fitted */\n",
       "  background-color: var(--sklearn-color-fitted-level-2);\n",
       "}\n",
       "\n",
       "#sk-container-id-2 div.sk-label label.sk-toggleable__label,\n",
       "#sk-container-id-2 div.sk-label label {\n",
       "  /* The background is the default theme color */\n",
       "  color: var(--sklearn-color-text-on-default-background);\n",
       "}\n",
       "\n",
       "/* On hover, darken the color of the background */\n",
       "#sk-container-id-2 div.sk-label:hover label.sk-toggleable__label {\n",
       "  color: var(--sklearn-color-text);\n",
       "  background-color: var(--sklearn-color-unfitted-level-2);\n",
       "}\n",
       "\n",
       "/* Label box, darken color on hover, fitted */\n",
       "#sk-container-id-2 div.sk-label.fitted:hover label.sk-toggleable__label.fitted {\n",
       "  color: var(--sklearn-color-text);\n",
       "  background-color: var(--sklearn-color-fitted-level-2);\n",
       "}\n",
       "\n",
       "/* Estimator label */\n",
       "\n",
       "#sk-container-id-2 div.sk-label label {\n",
       "  font-family: monospace;\n",
       "  font-weight: bold;\n",
       "  display: inline-block;\n",
       "  line-height: 1.2em;\n",
       "}\n",
       "\n",
       "#sk-container-id-2 div.sk-label-container {\n",
       "  text-align: center;\n",
       "}\n",
       "\n",
       "/* Estimator-specific */\n",
       "#sk-container-id-2 div.sk-estimator {\n",
       "  font-family: monospace;\n",
       "  border: 1px dotted var(--sklearn-color-border-box);\n",
       "  border-radius: 0.25em;\n",
       "  box-sizing: border-box;\n",
       "  margin-bottom: 0.5em;\n",
       "  /* unfitted */\n",
       "  background-color: var(--sklearn-color-unfitted-level-0);\n",
       "}\n",
       "\n",
       "#sk-container-id-2 div.sk-estimator.fitted {\n",
       "  /* fitted */\n",
       "  background-color: var(--sklearn-color-fitted-level-0);\n",
       "}\n",
       "\n",
       "/* on hover */\n",
       "#sk-container-id-2 div.sk-estimator:hover {\n",
       "  /* unfitted */\n",
       "  background-color: var(--sklearn-color-unfitted-level-2);\n",
       "}\n",
       "\n",
       "#sk-container-id-2 div.sk-estimator.fitted:hover {\n",
       "  /* fitted */\n",
       "  background-color: var(--sklearn-color-fitted-level-2);\n",
       "}\n",
       "\n",
       "/* Specification for estimator info (e.g. \"i\" and \"?\") */\n",
       "\n",
       "/* Common style for \"i\" and \"?\" */\n",
       "\n",
       ".sk-estimator-doc-link,\n",
       "a:link.sk-estimator-doc-link,\n",
       "a:visited.sk-estimator-doc-link {\n",
       "  float: right;\n",
       "  font-size: smaller;\n",
       "  line-height: 1em;\n",
       "  font-family: monospace;\n",
       "  background-color: var(--sklearn-color-background);\n",
       "  border-radius: 1em;\n",
       "  height: 1em;\n",
       "  width: 1em;\n",
       "  text-decoration: none !important;\n",
       "  margin-left: 1ex;\n",
       "  /* unfitted */\n",
       "  border: var(--sklearn-color-unfitted-level-1) 1pt solid;\n",
       "  color: var(--sklearn-color-unfitted-level-1);\n",
       "}\n",
       "\n",
       ".sk-estimator-doc-link.fitted,\n",
       "a:link.sk-estimator-doc-link.fitted,\n",
       "a:visited.sk-estimator-doc-link.fitted {\n",
       "  /* fitted */\n",
       "  border: var(--sklearn-color-fitted-level-1) 1pt solid;\n",
       "  color: var(--sklearn-color-fitted-level-1);\n",
       "}\n",
       "\n",
       "/* On hover */\n",
       "div.sk-estimator:hover .sk-estimator-doc-link:hover,\n",
       ".sk-estimator-doc-link:hover,\n",
       "div.sk-label-container:hover .sk-estimator-doc-link:hover,\n",
       ".sk-estimator-doc-link:hover {\n",
       "  /* unfitted */\n",
       "  background-color: var(--sklearn-color-unfitted-level-3);\n",
       "  color: var(--sklearn-color-background);\n",
       "  text-decoration: none;\n",
       "}\n",
       "\n",
       "div.sk-estimator.fitted:hover .sk-estimator-doc-link.fitted:hover,\n",
       ".sk-estimator-doc-link.fitted:hover,\n",
       "div.sk-label-container:hover .sk-estimator-doc-link.fitted:hover,\n",
       ".sk-estimator-doc-link.fitted:hover {\n",
       "  /* fitted */\n",
       "  background-color: var(--sklearn-color-fitted-level-3);\n",
       "  color: var(--sklearn-color-background);\n",
       "  text-decoration: none;\n",
       "}\n",
       "\n",
       "/* Span, style for the box shown on hovering the info icon */\n",
       ".sk-estimator-doc-link span {\n",
       "  display: none;\n",
       "  z-index: 9999;\n",
       "  position: relative;\n",
       "  font-weight: normal;\n",
       "  right: .2ex;\n",
       "  padding: .5ex;\n",
       "  margin: .5ex;\n",
       "  width: min-content;\n",
       "  min-width: 20ex;\n",
       "  max-width: 50ex;\n",
       "  color: var(--sklearn-color-text);\n",
       "  box-shadow: 2pt 2pt 4pt #999;\n",
       "  /* unfitted */\n",
       "  background: var(--sklearn-color-unfitted-level-0);\n",
       "  border: .5pt solid var(--sklearn-color-unfitted-level-3);\n",
       "}\n",
       "\n",
       ".sk-estimator-doc-link.fitted span {\n",
       "  /* fitted */\n",
       "  background: var(--sklearn-color-fitted-level-0);\n",
       "  border: var(--sklearn-color-fitted-level-3);\n",
       "}\n",
       "\n",
       ".sk-estimator-doc-link:hover span {\n",
       "  display: block;\n",
       "}\n",
       "\n",
       "/* \"?\"-specific style due to the `<a>` HTML tag */\n",
       "\n",
       "#sk-container-id-2 a.estimator_doc_link {\n",
       "  float: right;\n",
       "  font-size: 1rem;\n",
       "  line-height: 1em;\n",
       "  font-family: monospace;\n",
       "  background-color: var(--sklearn-color-background);\n",
       "  border-radius: 1rem;\n",
       "  height: 1rem;\n",
       "  width: 1rem;\n",
       "  text-decoration: none;\n",
       "  /* unfitted */\n",
       "  color: var(--sklearn-color-unfitted-level-1);\n",
       "  border: var(--sklearn-color-unfitted-level-1) 1pt solid;\n",
       "}\n",
       "\n",
       "#sk-container-id-2 a.estimator_doc_link.fitted {\n",
       "  /* fitted */\n",
       "  border: var(--sklearn-color-fitted-level-1) 1pt solid;\n",
       "  color: var(--sklearn-color-fitted-level-1);\n",
       "}\n",
       "\n",
       "/* On hover */\n",
       "#sk-container-id-2 a.estimator_doc_link:hover {\n",
       "  /* unfitted */\n",
       "  background-color: var(--sklearn-color-unfitted-level-3);\n",
       "  color: var(--sklearn-color-background);\n",
       "  text-decoration: none;\n",
       "}\n",
       "\n",
       "#sk-container-id-2 a.estimator_doc_link.fitted:hover {\n",
       "  /* fitted */\n",
       "  background-color: var(--sklearn-color-fitted-level-3);\n",
       "}\n",
       "</style><div id=\"sk-container-id-2\" class=\"sk-top-container\"><div class=\"sk-text-repr-fallback\"><pre>RandomForestClassifier(n_estimators=200, random_state=42)</pre><b>In a Jupyter environment, please rerun this cell to show the HTML representation or trust the notebook. <br />On GitHub, the HTML representation is unable to render, please try loading this page with nbviewer.org.</b></div><div class=\"sk-container\" hidden><div class=\"sk-item\"><div class=\"sk-estimator fitted sk-toggleable\"><input class=\"sk-toggleable__control sk-hidden--visually\" id=\"sk-estimator-id-2\" type=\"checkbox\" checked><label for=\"sk-estimator-id-2\" class=\"sk-toggleable__label fitted sk-toggleable__label-arrow fitted\">&nbsp;&nbsp;RandomForestClassifier<a class=\"sk-estimator-doc-link fitted\" rel=\"noreferrer\" target=\"_blank\" href=\"https://scikit-learn.org/1.5/modules/generated/sklearn.ensemble.RandomForestClassifier.html\">?<span>Documentation for RandomForestClassifier</span></a><span class=\"sk-estimator-doc-link fitted\">i<span>Fitted</span></span></label><div class=\"sk-toggleable__content fitted\"><pre>RandomForestClassifier(n_estimators=200, random_state=42)</pre></div> </div></div></div></div>"
      ],
      "text/plain": [
       "RandomForestClassifier(n_estimators=200, random_state=42)"
      ]
     },
     "execution_count": 67,
     "metadata": {},
     "output_type": "execute_result"
    }
   ],
   "source": [
    "# Train RandomForest\n",
    "clf = RandomForestClassifier(n_estimators=200, random_state=42)\n",
    "clf.fit(Xtr_num, ytr)"
   ]
  },
  {
   "cell_type": "code",
   "execution_count": 68,
   "id": "80778b46-7cce-4f4d-8af1-5d227e68bbe0",
   "metadata": {},
   "outputs": [
    {
     "name": "stderr",
     "output_type": "stream",
     "text": [
      "100%|===================| 14784/14798 [13:05<00:00]        "
     ]
    }
   ],
   "source": [
    "explainer = shap.Explainer(\n",
    "    clf, Xtr_num,\n",
    "    model_output=\"probability\",          # we're explaining proba\n",
    "    feature_names=Xtr_num.columns\n",
    ")\n",
    "\n",
    "# returns an Explanation\n",
    "sh = explainer(Xte_num, check_additivity=False)"
   ]
  },
  {
   "cell_type": "code",
   "execution_count": 69,
   "id": "ec753987-1862-480a-9959-67bb9d9f81f7",
   "metadata": {},
   "outputs": [
    {
     "data": {
      "image/png": "[encoded data removed]",
      "text/plain": [
       "<Figure size 800x900 with 1 Axes>"
      ]
     },
     "metadata": {},
     "output_type": "display_data"
    }
   ],
   "source": [
    "# slice class - 1 (churn)\n",
    "sh_churn = sh[..., 1]\n",
    "\n",
    "# bar plot of top 15 features\n",
    "shap.plots.bar(sh_churn, max_display=15)"
   ]
  },
  {
   "cell_type": "markdown",
   "id": "c6aae2ba-9e28-4695-af76-c74fc362a3e8",
   "metadata": {},
   "source": [
    "### Key Features Driving Churn (SHAP)\n",
    "\n",
    "- **Wallet balance** → stronge factor; higher balance = lower churn.  \n",
    "- **Membership tier** → Platinum/Premium/Gold reduce churn; No/Silver increase it.  \n",
    "- **Spending** (`avg_transaction_value`) → moderate impact; higher spenders churn less.  \n",
    "- **Engagement** (login frequency) → small but consistent; frequent users churn less.  \n",
    "- **Tenure & demographics** → minimal effect.  \n",
    "\n",
    "**Recommendation**: Focus retention on **wallet incentives** and **membership upgrades**, with re-engagement for low-activity users.  \n"
   ]
  },
  {
   "cell_type": "markdown",
   "id": "5fdfbd67-a0d4-4476-8ab0-b1c9888b2f69",
   "metadata": {},
   "source": [
    "### Q10. (Optional) How many separate customer groups based on their behaviors? (Kmean Clustering)"
   ]
  },
  {
   "cell_type": "code",
   "execution_count": 59,
   "id": "230690e6-2b5a-4889-9060-8cafb9c80be2",
   "metadata": {},
   "outputs": [],
   "source": [
    "# Scale (clustering works better in standardized space)\n",
    "scaler = StandardScaler()\n",
    "X_std = pd.DataFrame(scaler.fit_transform(X), columns=X.columns, index=X.index)"
   ]
  },
  {
   "cell_type": "code",
   "execution_count": 60,
   "id": "b0d29483-02ac-440d-ade3-7c66685d733e",
   "metadata": {},
   "outputs": [
    {
     "data": {
      "image/png": "[encoded data removed]",
      "text/plain": [
       "<Figure size 600x400 with 1 Axes>"
      ]
     },
     "metadata": {},
     "output_type": "display_data"
    }
   ],
   "source": [
    "K = range(2, 9)                \n",
    "inertias = []\n",
    "models = []\n",
    "\n",
    "for k in K:\n",
    "    km = KMeans(n_clusters=k, random_state=42, n_init=\"auto\")\n",
    "    km.fit(X_std)\n",
    "    inertias.append(km.inertia_)  # sum of squared distances (SSE)\n",
    "    models.append(km)\n",
    "\n",
    "plt.figure(figsize=(6,4))\n",
    "plt.plot(list(K), inertias, \"-o\")\n",
    "plt.xticks(list(K))\n",
    "plt.xlabel(\"Number of clusters (k)\")\n",
    "plt.ylabel(\"Inertia / SSE\")\n",
    "plt.title(\"Elbow Method\")\n",
    "plt.grid(True, alpha=0.3)\n",
    "plt.show()"
   ]
  },
  {
   "cell_type": "markdown",
   "id": "58df6002-dc5d-4df0-ad1e-f5633f7d2d89",
   "metadata": {},
   "source": [
    "### Elbow Method Conclusion  \n",
    "The curve bends around **k=4–5**, meaning the optimal number of clusters is likely **4** (simple) or **5** (more detail).  "
   ]
  },
  {
   "cell_type": "code",
   "execution_count": 61,
   "id": "6ef41770-a9f0-469b-8f3c-8440e939d2cd",
   "metadata": {},
   "outputs": [
    {
     "name": "stdout",
     "output_type": "stream",
     "text": [
      "[4 3 2 ... 0 4 1]\n"
     ]
    },
    {
     "data": {
      "image/png": "[encoded data removed]",
      "text/plain": [
       "<Figure size 600x500 with 1 Axes>"
      ]
     },
     "metadata": {},
     "output_type": "display_data"
    }
   ],
   "source": [
    "best_k = 4\n",
    "cluster_labels = models[best_k-1].labels_            # integers 0..k-1\n",
    "print(cluster_labels)\n",
    "xy = PCA(n_components=2, random_state=42).fit_transform(X_std)\n",
    "\n",
    "plt.figure(figsize=(6,5))\n",
    "plt.scatter(xy[:,0], xy[:,1], c=cluster_labels, s=8, cmap=\"tab10\")\n",
    "plt.title(\"Customer Segments (PCA view)\")\n",
    "plt.xlabel(\"PC1\"); plt.ylabel(\"PC2\")\n",
    "plt.show()"
   ]
  },
  {
   "cell_type": "code",
   "execution_count": 62,
   "id": "eca44131-df27-46f3-a2e0-a32fec603dd5",
   "metadata": {},
   "outputs": [
    {
     "name": "stdout",
     "output_type": "stream",
     "text": [
      "[4 3 1 ... 5 4 2]\n"
     ]
    },
    {
     "data": {
      "image/png": "[encoded data removed]",
      "text/plain": [
       "<Figure size 600x500 with 1 Axes>"
      ]
     },
     "metadata": {},
     "output_type": "display_data"
    }
   ],
   "source": [
    "best_k = 5\n",
    "cluster_labels = models[best_k-1].labels_            # integers 0..k-1\n",
    "print(cluster_labels)\n",
    "xy = PCA(n_components=2, random_state=42).fit_transform(X_std)\n",
    "\n",
    "plt.figure(figsize=(6,5))\n",
    "plt.scatter(xy[:,0], xy[:,1], c=cluster_labels, s=8, cmap=\"tab10\")\n",
    "plt.title(\"Customer Segments (PCA view)\")\n",
    "plt.xlabel(\"PC1\"); plt.ylabel(\"PC2\")\n",
    "plt.show()"
   ]
  },
  {
   "cell_type": "markdown",
   "id": "7a3ef6e7-4f7a-4bb9-992a-98a5d51d03e3",
   "metadata": {},
   "source": [
    "### Conclusion: Best K for Customer Segmentation\n",
    "From the Elbow method, both **k=4** and **k=5** looked plausible.  \n",
    "However, the PCA scatter plots show that with **k=4**, clusters are overlapping and not well separated.  \n",
    "With **k=5**, the clusters are **clearer and more distinct**, suggesting that the optimal number of customer groups is **5**.  "
   ]
  },
  {
   "cell_type": "code",
   "execution_count": 63,
   "id": "6ccd9cf4-c9a5-461d-844b-12a6cca7fcd1",
   "metadata": {},
   "outputs": [],
   "source": [
    "best_k = 5\n",
    "best_model = models[best_k-1]"
   ]
  },
  {
   "cell_type": "code",
   "execution_count": 64,
   "id": "2a2f30e8-224c-4d60-af7d-69f7877eb023",
   "metadata": {},
   "outputs": [
    {
     "name": "stdout",
     "output_type": "stream",
     "text": [
      "\n",
      "Cluster 0: top behaviors (z-score sign shows direction)\n",
      "  - internet_option_Mobile_Data: much higher than the average of all clusters (2.02 SD) \n",
      "  - avg_frequency_login_days: much higher than the average of all clusters (2.02 SD) \n",
      "  - preferred_offer_types_Without Offers: much lower than the average of all clusters (1.98 SD) \n",
      "  - avg_time_spent: much lower than the average of all clusters (1.91 SD) \n",
      "  - region_category_Village: much higher than the average of all clusters (1.87 SD) \n",
      "\n",
      "Cluster 1: top behaviors (z-score sign shows direction)\n",
      "  - complaint_status_Solved in Follow-up: much higher than the average of all clusters (2.24 SD) \n",
      "  - feedback_Solved in Follow-up: much higher than the average of all clusters (2.24 SD) \n",
      "  - joined_through_referral_Unknown: much higher than the average of all clusters (2.16 SD) \n",
      "  - gender_M: much lower than the average of all clusters (1.09 SD) \n",
      "  - preferred_offer_types_Gift Vouchers/Coupons: much lower than the average of all clusters (1.07 SD) \n",
      "\n",
      "Cluster 2: top behaviors (z-score sign shows direction)\n",
      "  - age: much higher than the average of all clusters (1.52 SD) \n",
      "  - membership_category_No Membership: much lower than the average of all clusters (1.50 SD) \n",
      "  - feedback_Not Applicable: much higher than the average of all clusters (1.41 SD) \n",
      "  - complaint_status_Not Applicable: much higher than the average of all clusters (1.41 SD) \n",
      "  - past_complaint_Yes: much lower than the average of all clusters (1.41 SD) \n",
      "\n",
      "Cluster 3: top behaviors (z-score sign shows direction)\n",
      "  - feedback_Solved: much higher than the average of all clusters (2.24 SD) \n",
      "  - complaint_status_Solved: much higher than the average of all clusters (2.24 SD) \n",
      "  - joined_through_referral_Yes: much lower than the average of all clusters (2.01 SD) \n",
      "  - membership_category_Platinum Membership: much lower than the average of all clusters (1.51 SD) \n",
      "  - offer_application_preference_Yes: much higher than the average of all clusters (1.25 SD) \n",
      "\n",
      "Cluster 4: top behaviors (z-score sign shows direction)\n",
      "  - age: much lower than the average of all clusters (1.78 SD) \n",
      "  - used_special_discount_Yes: much lower than the average of all clusters (1.65 SD) \n",
      "  - offer_application_preference_Yes: much higher than the average of all clusters (1.50 SD) \n",
      "  - feedback_Not Applicable: much higher than the average of all clusters (1.41 SD) \n",
      "  - complaint_status_Not Applicable: much higher than the average of all clusters (1.41 SD) \n"
     ]
    }
   ],
   "source": [
    "# === Most distinctive behaviors per cluster (top features) ===\n",
    "C = best_model.cluster_centers_\n",
    "\n",
    "# z-scores across clusters (per feature/column)\n",
    "Z = (C - C.mean(axis=0)) / (C.std(axis=0) + 1e-9)\n",
    "\n",
    "# feature names used to fit KMeans \n",
    "feat_names = X.columns.to_list()    \n",
    "\n",
    "top_n  = 5\n",
    "for c in range(best_k):\n",
    "    # indices of the largest absolute z-scores for cluster c\n",
    "    idx = np.argsort(-np.abs(Z[c]))[:top_n]\n",
    "    print(f\"\\nCluster {c}: top behaviors (z-score sign shows direction)\")\n",
    "    for i in idx:\n",
    "        direction = \"higher\" if Z[c, i] > 0 else \"lower\"\n",
    "        print(f\"  - {feat_names[i]}: much {direction} than the average of all clusters ({abs(Z[c, i]):.2f} SD) \")"
   ]
  },
  {
   "cell_type": "markdown",
   "id": "3efd6387-0385-464b-a5d9-002a40d12cad",
   "metadata": {},
   "source": [
    "### K-Means Segmentation — Conclusion\n",
    "\n",
    "**How many groups?**  \n",
    "Using the elbow method and PCA separation, the data are best segmented into **5 distinct customer groups**.\n",
    "\n",
    "**High-level profiles (top behaviors per cluster)**\n",
    "\n",
    "- **Cluster 0 – Mobile & frequent users (Village-leaning)**\n",
    "  - Much **higher** mobile-data internet usage and **higher login frequency**.\n",
    "  - **Lower time spent** per session; **more Village** region.\n",
    "  - Dislike “**Without Offers**” (prefer to have some kind of offer available).\n",
    "\n",
    "- **Cluster 1 – Issues solved via follow-up (female-leaning)**\n",
    "  - Complaints and feedback **solved in follow-up** far **higher** than average.\n",
    "  - **Referral source unknown** is higher; **male share lower**.\n",
    "  - **Lower** interest in **Gift Vouchers/Coupons**.\n",
    "\n",
    "- **Cluster 2 – Older, established members with few complaints**\n",
    "  - **Older age**; **fewer “No Membership”** (i.e., more are members).\n",
    "  - Complaint/feedback often **“Not Applicable”**; **past complaints lower**.\n",
    "\n",
    "- **Cluster 3 – Quick resolutions & offer-active**\n",
    "  - **Solved** complaints/feedback **much higher**.\n",
    "  - **Less** “joined by referral”; **fewer Platinum** members.\n",
    "  - **Higher** willingness to **apply for offers**.\n",
    "\n",
    "- **Cluster 4 – Younger, offer-applicants but discount-light**\n",
    "  - **Younger age**.\n",
    "  - **Less** use of **special discounts**, yet **more** likely to **apply for offers**.\n",
    "  - Complaint/feedback often **“Not Applicable”**.\n",
    "\n",
    "**Takeaway:**  \n",
    "Five segments provide clear, behaviorally distinct groups useful for targeted offers, complaint-handling strategies, and channel personalization."
   ]
  },
  {
   "cell_type": "markdown",
   "id": "11d92538-4550-4da6-92be-1512700d6d0b",
   "metadata": {},
   "source": [
    "# 8) Conclusion"
   ]
  },
  {
   "cell_type": "markdown",
   "id": "98a3862f-6ac2-4b93-9b97-a14874ba91ca",
   "metadata": {},
   "source": [
    "# Final Conclusion & Business Recommendations\n",
    "\n",
    "## Summary of Findings\n",
    "- **Membership tier is the strongest churn driver**: Low tiers (No/Silver/Basic) have high churn; Premium/Platinum show strong loyalty.  \n",
    "- **Financial behavior matters**: Higher wallet balances reduce churn; high-spending customers are more churn-sensitive.  \n",
    "- **Engagement reduces churn**: Frequent logins lower churn risk; infrequent logins are a warning signal.  \n",
    "- **Complaints are not churn drivers** if resolved quickly—service recovery is effective.  \n",
    "- **Demographics (gender, offers)** play a minor role, but offer type still influences behavior.  \n",
    "- **Best segmentation = 5 clusters** with distinct profiles (mobile-heavy users, follow-up resolution seekers, older loyal members, quick-resolution/offer users, younger discount-light users).\n",
    "\n",
    "## Business Decision-Making\n",
    "1. **Retention & Loyalty Programs**\n",
    "   - Push **wallet incentives and tier upgrades** for No/Silver/Basic members.\n",
    "   - Protect high-value Premium/Platinum members with **exclusive perks**.\n",
    "\n",
    "2. **Customer Engagement**\n",
    "   - Increase logins via **gamification, reminders, app campaigns**.\n",
    "   - For low-frequency users, design **reactivation offers**.\n",
    "\n",
    "3. **Complaint Management**\n",
    "   - Keep **fast SLA and follow-up processes**, as they neutralize churn risk.\n",
    "   - Use complaints as a **trigger for loyalty outreach**.\n",
    "\n",
    "4. **Pricing & Offers**\n",
    "   - Manage high-spender churn with **targeted discounts, premium services, or loyalty rewards**.\n",
    "   - Segment offers: vouchers for price-sensitive clusters, personalized deals for offer-active clusters.\n",
    "\n",
    "5. **Segment-Specific Strategies**\n",
    "   - **Cluster 0 (Mobile & frequent users)** → Push app-based offers and regional campaigns.  \n",
    "   - **Cluster 1 (Follow-up resolution seekers)** → Emphasize **customer care quality**.  \n",
    "   - **Cluster 2 (Older loyal members)** → Build **long-term value programs**.  \n",
    "   - **Cluster 3 (Quick-resolution, offer-active)** → Upsell through **time-limited offers**.  \n",
    "   - **Cluster 4 (Young, discount-light)** → Promote **innovative bundles instead of heavy discounts**.  \n",
    "\n",
    "## Takeaway\n",
    "Churn is best reduced by **upgrading entry-tier members, incentivizing wallet balance, and boosting engagement**.  \n",
    "The **5 behavioral clusters** enable **personalized marketing and service strategies**, turning insights into **actionable business decisions**.\n"
   ]
  },
  {
   "cell_type": "code",
   "execution_count": null,
   "id": "7173ac02-4d34-45eb-83ba-5d5fdfc818f7",
   "metadata": {},
   "outputs": [],
   "source": []
  }
 ],
 "metadata": {
  "kernelspec": {
   "display_name": "Python 3 (ipykernel)",
   "language": "python",
   "name": "python3"
  },
  "language_info": {
   "codemirror_mode": {
    "name": "ipython",
    "version": 3
   },
   "file_extension": ".py",
   "mimetype": "text/x-python",
   "name": "python",
   "nbconvert_exporter": "python",
   "pygments_lexer": "ipython3",
   "version": "3.12.11"
  }
 },
 "nbformat": 4,
 "nbformat_minor": 5
}
